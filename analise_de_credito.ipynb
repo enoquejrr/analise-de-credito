{
 "cells": [
  {
   "cell_type": "markdown",
   "id": "9da200f6",
   "metadata": {
    "id": "JfFLTQtcordy",
    "papermill": {
     "duration": 0.013194,
     "end_time": "2024-06-07T13:15:12.777928",
     "exception": false,
     "start_time": "2024-06-07T13:15:12.764734",
     "status": "completed"
    },
    "tags": []
   },
   "source": [
    "# **Projeto Final** | Análise Exploratória de Dados de Crédito"
   ]
  },
  {
   "cell_type": "markdown",
   "id": "8417744c",
   "metadata": {
    "id": "Tn5Q-Y7so2JU",
    "papermill": {
     "duration": 0.013153,
     "end_time": "2024-06-07T13:15:12.805072",
     "exception": false,
     "start_time": "2024-06-07T13:15:12.791919",
     "status": "completed"
    },
    "tags": []
   },
   "source": [
    "#**Tópicos**\n",
    "\n",
    "<ol type=\"1\">\n",
    "  <li>Exploração de dados;</li>\n",
    "  <li>Transformação e limpeza de dados;</li>\n",
    "  <li>Visualização de dados;</li>\n",
    "  <li>Storytelling.</li>\n",
    "</ol>"
   ]
  },
  {
   "cell_type": "markdown",
   "id": "0d09f832",
   "metadata": {
    "id": "f_0BHo2RpFoO",
    "papermill": {
     "duration": 0.015793,
     "end_time": "2024-06-07T13:15:12.836898",
     "exception": false,
     "start_time": "2024-06-07T13:15:12.821105",
     "status": "completed"
    },
    "tags": []
   },
   "source": [
    "## 1\\. Exploração de Dados"
   ]
  },
  {
   "cell_type": "markdown",
   "id": "8585c779",
   "metadata": {
    "id": "9dU7_zjOpIZh",
    "papermill": {
     "duration": 0.013288,
     "end_time": "2024-06-07T13:15:12.863606",
     "exception": false,
     "start_time": "2024-06-07T13:15:12.850318",
     "status": "completed"
    },
    "tags": []
   },
   "source": [
    "\\Vamos explorar dados de crédito que estão no formato CSV e contém informações sobre clientes de uma instituição financeira. Em especial, estamos interessados em explicar a segunda coluna, chamada de **default**, que indica se um cliente é adimplente(`default = 0`), ou inadimplente (`default = 1`), ou seja, queremos entender o porque um cliente deixa de honrar com suas dívidas baseado no comportamento de outros atributos, como salário, escolaridade e movimentação financeira. Uma descrição completa dos atributos está abaixo."
   ]
  },
  {
   "cell_type": "markdown",
   "id": "ebc70e25",
   "metadata": {
    "id": "lJ0RcgQYpNOV",
    "papermill": {
     "duration": 0.012764,
     "end_time": "2024-06-07T13:15:12.890177",
     "exception": false,
     "start_time": "2024-06-07T13:15:12.877413",
     "status": "completed"
    },
    "tags": []
   },
   "source": [
    "> O atributo de interesse (`default`) é conhecido como **variável resposta** ou **variável dependente**, já os demais atributos que buscam explicá-la (`idade`, `salário`, etc.) são conhecidas como **variáveis explicatívas**, **variáveis independentes** ou até **variáveis preditoras**."
   ]
  },
  {
   "cell_type": "markdown",
   "id": "15248fc5",
   "metadata": {
    "id": "GsskdlforBsD",
    "papermill": {
     "duration": 0.016342,
     "end_time": "2024-06-07T13:15:12.919489",
     "exception": false,
     "start_time": "2024-06-07T13:15:12.903147",
     "status": "completed"
    },
    "tags": []
   },
   "source": [
    "\n",
    "\n",
    "| Coluna  | Descrição |\n",
    "| ------- | --------- |\n",
    "| id      | Número da conta |\n",
    "| default | Indica se o cliente é adimplente (0) ou inadimplente (1) |\n",
    "| idade   | >= 18 |\n",
    "| sexo    | M (masculino) e F (Feminino) |\n",
    "| depedentes | >= 0 |\n",
    "| escolaridade | Sem educação formal, Ensino médio, Graduação, Mestrado e Doutorado |\n",
    "| estado_civil | Casado, Solteiro ou Viúvo |\n",
    "| salario_anual | Faixa do salario mensal multiplicado por 12 |\n",
    "| tipo_cartao | Categoria do cartao: blue, silver, gold e platinium |\n",
    "| meses_de_relacionamento | Quantidade de meses desde a abertura da conta |\n",
    "| qtd_produtos | Quantidade de produtos contratados |\n",
    "| iteracoes_12m | Quantidade de iteracoes com o cliente no último ano |\n",
    "| meses_inatico_12m | Quantidade de meses que o cliente ficou inativo no último ano |\n",
    "| limite_credito | Valor do limite do cartão de crédito |\n",
    "| valor_transacoes_12m | Soma total do valor das transações no cartão de crédito no último ano |\n",
    "| qtd_transacoes_12m | Quantidade total de transações no cartão de crédito no último ano |"
   ]
  },
  {
   "cell_type": "code",
   "execution_count": 1,
   "id": "844287bb",
   "metadata": {
    "execution": {
     "iopub.execute_input": "2024-06-07T13:15:12.949825Z",
     "iopub.status.busy": "2024-06-07T13:15:12.949388Z",
     "iopub.status.idle": "2024-06-07T13:15:13.935089Z",
     "shell.execute_reply": "2024-06-07T13:15:13.933588Z"
    },
    "id": "dedpU_uJrd5E",
    "papermill": {
     "duration": 1.004768,
     "end_time": "2024-06-07T13:15:13.938129",
     "exception": false,
     "start_time": "2024-06-07T13:15:12.933361",
     "status": "completed"
    },
    "tags": []
   },
   "outputs": [],
   "source": [
    "import pandas as pd"
   ]
  },
  {
   "cell_type": "code",
   "execution_count": 2,
   "id": "b0d0a5d4",
   "metadata": {
    "execution": {
     "iopub.execute_input": "2024-06-07T13:15:13.967886Z",
     "iopub.status.busy": "2024-06-07T13:15:13.967185Z",
     "iopub.status.idle": "2024-06-07T13:15:14.650904Z",
     "shell.execute_reply": "2024-06-07T13:15:14.649931Z"
    },
    "id": "3TymGWGUs3W2",
    "papermill": {
     "duration": 0.70166,
     "end_time": "2024-06-07T13:15:14.654058",
     "exception": false,
     "start_time": "2024-06-07T13:15:13.952398",
     "status": "completed"
    },
    "tags": []
   },
   "outputs": [],
   "source": [
    "df = pd.read_csv('https://raw.githubusercontent.com/andre-marcos-perez/ebac-course-utils/develop/dataset/credito.csv', na_values='na')"
   ]
  },
  {
   "cell_type": "code",
   "execution_count": 3,
   "id": "af0c178f",
   "metadata": {
    "execution": {
     "iopub.execute_input": "2024-06-07T13:15:14.687739Z",
     "iopub.status.busy": "2024-06-07T13:15:14.687350Z",
     "iopub.status.idle": "2024-06-07T13:15:14.718051Z",
     "shell.execute_reply": "2024-06-07T13:15:14.716925Z"
    },
    "id": "WhXqteals92n",
    "outputId": "84a106bb-68fb-4e44-8e32-c73fdb0517f7",
    "papermill": {
     "duration": 0.04756,
     "end_time": "2024-06-07T13:15:14.720635",
     "exception": false,
     "start_time": "2024-06-07T13:15:14.673075",
     "status": "completed"
    },
    "tags": []
   },
   "outputs": [
    {
     "data": {
      "text/html": [
       "<div>\n",
       "<style scoped>\n",
       "    .dataframe tbody tr th:only-of-type {\n",
       "        vertical-align: middle;\n",
       "    }\n",
       "\n",
       "    .dataframe tbody tr th {\n",
       "        vertical-align: top;\n",
       "    }\n",
       "\n",
       "    .dataframe thead th {\n",
       "        text-align: right;\n",
       "    }\n",
       "</style>\n",
       "<table border=\"1\" class=\"dataframe\">\n",
       "  <thead>\n",
       "    <tr style=\"text-align: right;\">\n",
       "      <th></th>\n",
       "      <th>id</th>\n",
       "      <th>default</th>\n",
       "      <th>idade</th>\n",
       "      <th>sexo</th>\n",
       "      <th>dependentes</th>\n",
       "      <th>escolaridade</th>\n",
       "      <th>estado_civil</th>\n",
       "      <th>salario_anual</th>\n",
       "      <th>tipo_cartao</th>\n",
       "      <th>meses_de_relacionamento</th>\n",
       "      <th>qtd_produtos</th>\n",
       "      <th>iteracoes_12m</th>\n",
       "      <th>meses_inativo_12m</th>\n",
       "      <th>limite_credito</th>\n",
       "      <th>valor_transacoes_12m</th>\n",
       "      <th>qtd_transacoes_12m</th>\n",
       "    </tr>\n",
       "  </thead>\n",
       "  <tbody>\n",
       "    <tr>\n",
       "      <th>0</th>\n",
       "      <td>768805383</td>\n",
       "      <td>0</td>\n",
       "      <td>45</td>\n",
       "      <td>M</td>\n",
       "      <td>3</td>\n",
       "      <td>ensino medio</td>\n",
       "      <td>casado</td>\n",
       "      <td>$60K - $80K</td>\n",
       "      <td>blue</td>\n",
       "      <td>39</td>\n",
       "      <td>5</td>\n",
       "      <td>3</td>\n",
       "      <td>1</td>\n",
       "      <td>12.691,51</td>\n",
       "      <td>1.144,90</td>\n",
       "      <td>42</td>\n",
       "    </tr>\n",
       "    <tr>\n",
       "      <th>1</th>\n",
       "      <td>818770008</td>\n",
       "      <td>0</td>\n",
       "      <td>49</td>\n",
       "      <td>F</td>\n",
       "      <td>5</td>\n",
       "      <td>mestrado</td>\n",
       "      <td>solteiro</td>\n",
       "      <td>menos que $40K</td>\n",
       "      <td>blue</td>\n",
       "      <td>44</td>\n",
       "      <td>6</td>\n",
       "      <td>2</td>\n",
       "      <td>1</td>\n",
       "      <td>8.256,96</td>\n",
       "      <td>1.291,45</td>\n",
       "      <td>33</td>\n",
       "    </tr>\n",
       "    <tr>\n",
       "      <th>2</th>\n",
       "      <td>713982108</td>\n",
       "      <td>0</td>\n",
       "      <td>51</td>\n",
       "      <td>M</td>\n",
       "      <td>3</td>\n",
       "      <td>mestrado</td>\n",
       "      <td>casado</td>\n",
       "      <td>$80K - $120K</td>\n",
       "      <td>blue</td>\n",
       "      <td>36</td>\n",
       "      <td>4</td>\n",
       "      <td>0</td>\n",
       "      <td>1</td>\n",
       "      <td>3.418,56</td>\n",
       "      <td>1.887,72</td>\n",
       "      <td>20</td>\n",
       "    </tr>\n",
       "    <tr>\n",
       "      <th>3</th>\n",
       "      <td>769911858</td>\n",
       "      <td>0</td>\n",
       "      <td>40</td>\n",
       "      <td>F</td>\n",
       "      <td>4</td>\n",
       "      <td>ensino medio</td>\n",
       "      <td>NaN</td>\n",
       "      <td>menos que $40K</td>\n",
       "      <td>blue</td>\n",
       "      <td>34</td>\n",
       "      <td>3</td>\n",
       "      <td>1</td>\n",
       "      <td>4</td>\n",
       "      <td>3.313,03</td>\n",
       "      <td>1.171,56</td>\n",
       "      <td>20</td>\n",
       "    </tr>\n",
       "    <tr>\n",
       "      <th>4</th>\n",
       "      <td>709106358</td>\n",
       "      <td>0</td>\n",
       "      <td>40</td>\n",
       "      <td>M</td>\n",
       "      <td>3</td>\n",
       "      <td>sem educacao formal</td>\n",
       "      <td>casado</td>\n",
       "      <td>$60K - $80K</td>\n",
       "      <td>blue</td>\n",
       "      <td>21</td>\n",
       "      <td>5</td>\n",
       "      <td>0</td>\n",
       "      <td>1</td>\n",
       "      <td>4.716,22</td>\n",
       "      <td>816,08</td>\n",
       "      <td>28</td>\n",
       "    </tr>\n",
       "    <tr>\n",
       "      <th>5</th>\n",
       "      <td>713061558</td>\n",
       "      <td>0</td>\n",
       "      <td>44</td>\n",
       "      <td>M</td>\n",
       "      <td>2</td>\n",
       "      <td>mestrado</td>\n",
       "      <td>casado</td>\n",
       "      <td>$40K - $60K</td>\n",
       "      <td>blue</td>\n",
       "      <td>36</td>\n",
       "      <td>3</td>\n",
       "      <td>2</td>\n",
       "      <td>1</td>\n",
       "      <td>4.010,69</td>\n",
       "      <td>1.088,07</td>\n",
       "      <td>24</td>\n",
       "    </tr>\n",
       "    <tr>\n",
       "      <th>6</th>\n",
       "      <td>810347208</td>\n",
       "      <td>0</td>\n",
       "      <td>51</td>\n",
       "      <td>M</td>\n",
       "      <td>4</td>\n",
       "      <td>NaN</td>\n",
       "      <td>casado</td>\n",
       "      <td>$120K +</td>\n",
       "      <td>gold</td>\n",
       "      <td>46</td>\n",
       "      <td>6</td>\n",
       "      <td>3</td>\n",
       "      <td>1</td>\n",
       "      <td>34.516,72</td>\n",
       "      <td>1.330,87</td>\n",
       "      <td>31</td>\n",
       "    </tr>\n",
       "    <tr>\n",
       "      <th>7</th>\n",
       "      <td>818906208</td>\n",
       "      <td>0</td>\n",
       "      <td>32</td>\n",
       "      <td>M</td>\n",
       "      <td>0</td>\n",
       "      <td>ensino medio</td>\n",
       "      <td>NaN</td>\n",
       "      <td>$60K - $80K</td>\n",
       "      <td>silver</td>\n",
       "      <td>27</td>\n",
       "      <td>2</td>\n",
       "      <td>2</td>\n",
       "      <td>2</td>\n",
       "      <td>29.081,49</td>\n",
       "      <td>1.538,32</td>\n",
       "      <td>36</td>\n",
       "    </tr>\n",
       "    <tr>\n",
       "      <th>8</th>\n",
       "      <td>710930508</td>\n",
       "      <td>0</td>\n",
       "      <td>37</td>\n",
       "      <td>M</td>\n",
       "      <td>3</td>\n",
       "      <td>sem educacao formal</td>\n",
       "      <td>solteiro</td>\n",
       "      <td>$60K - $80K</td>\n",
       "      <td>blue</td>\n",
       "      <td>36</td>\n",
       "      <td>5</td>\n",
       "      <td>0</td>\n",
       "      <td>2</td>\n",
       "      <td>22.352,50</td>\n",
       "      <td>1.350,14</td>\n",
       "      <td>24</td>\n",
       "    </tr>\n",
       "    <tr>\n",
       "      <th>9</th>\n",
       "      <td>719661558</td>\n",
       "      <td>0</td>\n",
       "      <td>48</td>\n",
       "      <td>M</td>\n",
       "      <td>2</td>\n",
       "      <td>mestrado</td>\n",
       "      <td>solteiro</td>\n",
       "      <td>$80K - $120K</td>\n",
       "      <td>blue</td>\n",
       "      <td>36</td>\n",
       "      <td>6</td>\n",
       "      <td>3</td>\n",
       "      <td>3</td>\n",
       "      <td>11.656,41</td>\n",
       "      <td>1.441,73</td>\n",
       "      <td>32</td>\n",
       "    </tr>\n",
       "  </tbody>\n",
       "</table>\n",
       "</div>"
      ],
      "text/plain": [
       "          id  default  idade sexo  dependentes         escolaridade  \\\n",
       "0  768805383        0     45    M            3         ensino medio   \n",
       "1  818770008        0     49    F            5             mestrado   \n",
       "2  713982108        0     51    M            3             mestrado   \n",
       "3  769911858        0     40    F            4         ensino medio   \n",
       "4  709106358        0     40    M            3  sem educacao formal   \n",
       "5  713061558        0     44    M            2             mestrado   \n",
       "6  810347208        0     51    M            4                  NaN   \n",
       "7  818906208        0     32    M            0         ensino medio   \n",
       "8  710930508        0     37    M            3  sem educacao formal   \n",
       "9  719661558        0     48    M            2             mestrado   \n",
       "\n",
       "  estado_civil   salario_anual tipo_cartao  meses_de_relacionamento  \\\n",
       "0       casado     $60K - $80K        blue                       39   \n",
       "1     solteiro  menos que $40K        blue                       44   \n",
       "2       casado    $80K - $120K        blue                       36   \n",
       "3          NaN  menos que $40K        blue                       34   \n",
       "4       casado     $60K - $80K        blue                       21   \n",
       "5       casado     $40K - $60K        blue                       36   \n",
       "6       casado         $120K +        gold                       46   \n",
       "7          NaN     $60K - $80K      silver                       27   \n",
       "8     solteiro     $60K - $80K        blue                       36   \n",
       "9     solteiro    $80K - $120K        blue                       36   \n",
       "\n",
       "   qtd_produtos  iteracoes_12m  meses_inativo_12m limite_credito  \\\n",
       "0             5              3                  1      12.691,51   \n",
       "1             6              2                  1       8.256,96   \n",
       "2             4              0                  1       3.418,56   \n",
       "3             3              1                  4       3.313,03   \n",
       "4             5              0                  1       4.716,22   \n",
       "5             3              2                  1       4.010,69   \n",
       "6             6              3                  1      34.516,72   \n",
       "7             2              2                  2      29.081,49   \n",
       "8             5              0                  2      22.352,50   \n",
       "9             6              3                  3      11.656,41   \n",
       "\n",
       "  valor_transacoes_12m  qtd_transacoes_12m  \n",
       "0             1.144,90                  42  \n",
       "1             1.291,45                  33  \n",
       "2             1.887,72                  20  \n",
       "3             1.171,56                  20  \n",
       "4               816,08                  28  \n",
       "5             1.088,07                  24  \n",
       "6             1.330,87                  31  \n",
       "7             1.538,32                  36  \n",
       "8             1.350,14                  24  \n",
       "9             1.441,73                  32  "
      ]
     },
     "execution_count": 3,
     "metadata": {},
     "output_type": "execute_result"
    }
   ],
   "source": [
    "df.head(n=10)"
   ]
  },
  {
   "cell_type": "code",
   "execution_count": 4,
   "id": "b68acdb4",
   "metadata": {
    "execution": {
     "iopub.execute_input": "2024-06-07T13:15:14.749517Z",
     "iopub.status.busy": "2024-06-07T13:15:14.749143Z",
     "iopub.status.idle": "2024-06-07T13:15:14.755778Z",
     "shell.execute_reply": "2024-06-07T13:15:14.754664Z"
    },
    "id": "zfuzSZ7fxlq-",
    "outputId": "8be9e4dd-a553-4513-8c4f-b5226679f045",
    "papermill": {
     "duration": 0.023576,
     "end_time": "2024-06-07T13:15:14.758060",
     "exception": false,
     "start_time": "2024-06-07T13:15:14.734484",
     "status": "completed"
    },
    "tags": []
   },
   "outputs": [
    {
     "data": {
      "text/plain": [
       "(10127, 16)"
      ]
     },
     "execution_count": 4,
     "metadata": {},
     "output_type": "execute_result"
    }
   ],
   "source": [
    "df.shape"
   ]
  },
  {
   "cell_type": "code",
   "execution_count": 5,
   "id": "a0fe1343",
   "metadata": {
    "execution": {
     "iopub.execute_input": "2024-06-07T13:15:14.786657Z",
     "iopub.status.busy": "2024-06-07T13:15:14.786280Z",
     "iopub.status.idle": "2024-06-07T13:15:14.800549Z",
     "shell.execute_reply": "2024-06-07T13:15:14.799477Z"
    },
    "id": "HnpieZ7pxn5s",
    "outputId": "8d3de463-8450-4418-b7d1-7a786ca726f5",
    "papermill": {
     "duration": 0.031734,
     "end_time": "2024-06-07T13:15:14.803376",
     "exception": false,
     "start_time": "2024-06-07T13:15:14.771642",
     "status": "completed"
    },
    "tags": []
   },
   "outputs": [
    {
     "data": {
      "text/plain": [
       "(8500, 16)"
      ]
     },
     "execution_count": 5,
     "metadata": {},
     "output_type": "execute_result"
    }
   ],
   "source": [
    "df[df['default'] == 0].shape"
   ]
  },
  {
   "cell_type": "code",
   "execution_count": 6,
   "id": "7a3fb2cb",
   "metadata": {
    "execution": {
     "iopub.execute_input": "2024-06-07T13:15:14.836541Z",
     "iopub.status.busy": "2024-06-07T13:15:14.836142Z",
     "iopub.status.idle": "2024-06-07T13:15:14.844993Z",
     "shell.execute_reply": "2024-06-07T13:15:14.843928Z"
    },
    "id": "Us6LsoyZxpqi",
    "outputId": "504515bf-5792-4ff4-81fd-2928d8a6b43d",
    "papermill": {
     "duration": 0.026114,
     "end_time": "2024-06-07T13:15:14.847552",
     "exception": false,
     "start_time": "2024-06-07T13:15:14.821438",
     "status": "completed"
    },
    "tags": []
   },
   "outputs": [
    {
     "data": {
      "text/plain": [
       "(1627, 16)"
      ]
     },
     "execution_count": 6,
     "metadata": {},
     "output_type": "execute_result"
    }
   ],
   "source": [
    "df[df['default'] == 1].shape"
   ]
  },
  {
   "cell_type": "code",
   "execution_count": 7,
   "id": "2e6b7c1f",
   "metadata": {
    "execution": {
     "iopub.execute_input": "2024-06-07T13:15:14.877799Z",
     "iopub.status.busy": "2024-06-07T13:15:14.876702Z",
     "iopub.status.idle": "2024-06-07T13:15:14.886911Z",
     "shell.execute_reply": "2024-06-07T13:15:14.885816Z"
    },
    "id": "9_uzMGKkxp3W",
    "papermill": {
     "duration": 0.028388,
     "end_time": "2024-06-07T13:15:14.889740",
     "exception": false,
     "start_time": "2024-06-07T13:15:14.861352",
     "status": "completed"
    },
    "tags": []
   },
   "outputs": [],
   "source": [
    "qtd_total, _ = df.shape\n",
    "qtd_adimplentes, _ = df[df['default'] == 0].shape\n",
    "qtd_inadimplentes, _ = df[df['default'] == 1].shape"
   ]
  },
  {
   "cell_type": "code",
   "execution_count": 8,
   "id": "3f844161",
   "metadata": {
    "execution": {
     "iopub.execute_input": "2024-06-07T13:15:14.923195Z",
     "iopub.status.busy": "2024-06-07T13:15:14.921967Z",
     "iopub.status.idle": "2024-06-07T13:15:14.929024Z",
     "shell.execute_reply": "2024-06-07T13:15:14.927906Z"
    },
    "id": "h_kCvPn6xqBR",
    "outputId": "601158a7-2eed-4f30-bd19-97cccaf35bb6",
    "papermill": {
     "duration": 0.027976,
     "end_time": "2024-06-07T13:15:14.932218",
     "exception": false,
     "start_time": "2024-06-07T13:15:14.904242",
     "status": "completed"
    },
    "tags": []
   },
   "outputs": [
    {
     "name": "stdout",
     "output_type": "stream",
     "text": [
      "A proporcão clientes adimplentes é de 83.93%\n",
      "A proporcão clientes inadimplentes é de 16.07%\n"
     ]
    }
   ],
   "source": [
    "print(f\"A proporcão clientes adimplentes é de {round(100 * qtd_adimplentes / qtd_total, 2)}%\")\n",
    "print(f\"A proporcão clientes inadimplentes é de {round(100 * qtd_inadimplentes / qtd_total, 2)}%\")"
   ]
  },
  {
   "cell_type": "code",
   "execution_count": 9,
   "id": "2d75cd8b",
   "metadata": {
    "execution": {
     "iopub.execute_input": "2024-06-07T13:15:14.966849Z",
     "iopub.status.busy": "2024-06-07T13:15:14.966460Z",
     "iopub.status.idle": "2024-06-07T13:15:14.975480Z",
     "shell.execute_reply": "2024-06-07T13:15:14.974129Z"
    },
    "id": "RWdJk5Mgy5Xg",
    "outputId": "7c0d552c-5894-43d6-d130-48bce56668cf",
    "papermill": {
     "duration": 0.026691,
     "end_time": "2024-06-07T13:15:14.977838",
     "exception": false,
     "start_time": "2024-06-07T13:15:14.951147",
     "status": "completed"
    },
    "tags": []
   },
   "outputs": [
    {
     "data": {
      "text/plain": [
       "id                          int64\n",
       "default                     int64\n",
       "idade                       int64\n",
       "sexo                       object\n",
       "dependentes                 int64\n",
       "escolaridade               object\n",
       "estado_civil               object\n",
       "salario_anual              object\n",
       "tipo_cartao                object\n",
       "meses_de_relacionamento     int64\n",
       "qtd_produtos                int64\n",
       "iteracoes_12m               int64\n",
       "meses_inativo_12m           int64\n",
       "limite_credito             object\n",
       "valor_transacoes_12m       object\n",
       "qtd_transacoes_12m          int64\n",
       "dtype: object"
      ]
     },
     "execution_count": 9,
     "metadata": {},
     "output_type": "execute_result"
    }
   ],
   "source": [
    "df.dtypes"
   ]
  },
  {
   "cell_type": "markdown",
   "id": "1edb1097",
   "metadata": {
    "id": "J9B_3nE-zAVn",
    "papermill": {
     "duration": 0.013659,
     "end_time": "2024-06-07T13:15:15.006583",
     "exception": false,
     "start_time": "2024-06-07T13:15:14.992924",
     "status": "completed"
    },
    "tags": []
   },
   "source": [
    " - Atributos **categóricos**."
   ]
  },
  {
   "cell_type": "code",
   "execution_count": 10,
   "id": "461d8035",
   "metadata": {
    "execution": {
     "iopub.execute_input": "2024-06-07T13:15:15.036546Z",
     "iopub.status.busy": "2024-06-07T13:15:15.036156Z",
     "iopub.status.idle": "2024-06-07T13:15:15.086312Z",
     "shell.execute_reply": "2024-06-07T13:15:15.085192Z"
    },
    "id": "do5LDkC0zBPf",
    "outputId": "cfab8478-f913-49d3-f92d-54fbda4afe5f",
    "papermill": {
     "duration": 0.067723,
     "end_time": "2024-06-07T13:15:15.088768",
     "exception": false,
     "start_time": "2024-06-07T13:15:15.021045",
     "status": "completed"
    },
    "tags": []
   },
   "outputs": [
    {
     "data": {
      "text/html": [
       "<div>\n",
       "<style scoped>\n",
       "    .dataframe tbody tr th:only-of-type {\n",
       "        vertical-align: middle;\n",
       "    }\n",
       "\n",
       "    .dataframe tbody tr th {\n",
       "        vertical-align: top;\n",
       "    }\n",
       "\n",
       "    .dataframe thead th {\n",
       "        text-align: right;\n",
       "    }\n",
       "</style>\n",
       "<table border=\"1\" class=\"dataframe\">\n",
       "  <thead>\n",
       "    <tr style=\"text-align: right;\">\n",
       "      <th></th>\n",
       "      <th>count</th>\n",
       "      <th>unique</th>\n",
       "      <th>top</th>\n",
       "      <th>freq</th>\n",
       "    </tr>\n",
       "  </thead>\n",
       "  <tbody>\n",
       "    <tr>\n",
       "      <th>sexo</th>\n",
       "      <td>10127</td>\n",
       "      <td>2</td>\n",
       "      <td>F</td>\n",
       "      <td>5358</td>\n",
       "    </tr>\n",
       "    <tr>\n",
       "      <th>escolaridade</th>\n",
       "      <td>8608</td>\n",
       "      <td>5</td>\n",
       "      <td>mestrado</td>\n",
       "      <td>3128</td>\n",
       "    </tr>\n",
       "    <tr>\n",
       "      <th>estado_civil</th>\n",
       "      <td>9378</td>\n",
       "      <td>3</td>\n",
       "      <td>casado</td>\n",
       "      <td>4687</td>\n",
       "    </tr>\n",
       "    <tr>\n",
       "      <th>salario_anual</th>\n",
       "      <td>9015</td>\n",
       "      <td>5</td>\n",
       "      <td>menos que $40K</td>\n",
       "      <td>3561</td>\n",
       "    </tr>\n",
       "    <tr>\n",
       "      <th>tipo_cartao</th>\n",
       "      <td>10127</td>\n",
       "      <td>4</td>\n",
       "      <td>blue</td>\n",
       "      <td>9436</td>\n",
       "    </tr>\n",
       "    <tr>\n",
       "      <th>limite_credito</th>\n",
       "      <td>10127</td>\n",
       "      <td>9272</td>\n",
       "      <td>1.438,21</td>\n",
       "      <td>11</td>\n",
       "    </tr>\n",
       "    <tr>\n",
       "      <th>valor_transacoes_12m</th>\n",
       "      <td>10127</td>\n",
       "      <td>10035</td>\n",
       "      <td>3.851,51</td>\n",
       "      <td>3</td>\n",
       "    </tr>\n",
       "  </tbody>\n",
       "</table>\n",
       "</div>"
      ],
      "text/plain": [
       "                      count unique             top  freq\n",
       "sexo                  10127      2               F  5358\n",
       "escolaridade           8608      5        mestrado  3128\n",
       "estado_civil           9378      3          casado  4687\n",
       "salario_anual          9015      5  menos que $40K  3561\n",
       "tipo_cartao           10127      4            blue  9436\n",
       "limite_credito        10127   9272        1.438,21    11\n",
       "valor_transacoes_12m  10127  10035        3.851,51     3"
      ]
     },
     "execution_count": 10,
     "metadata": {},
     "output_type": "execute_result"
    }
   ],
   "source": [
    "df.select_dtypes('object').describe().transpose()"
   ]
  },
  {
   "cell_type": "markdown",
   "id": "35171653",
   "metadata": {
    "id": "NUb9yhuRzC8y",
    "papermill": {
     "duration": 0.013594,
     "end_time": "2024-06-07T13:15:15.116671",
     "exception": false,
     "start_time": "2024-06-07T13:15:15.103077",
     "status": "completed"
    },
    "tags": []
   },
   "source": [
    " - Atributos **numéricos**."
   ]
  },
  {
   "cell_type": "code",
   "execution_count": 11,
   "id": "80c51b83",
   "metadata": {
    "execution": {
     "iopub.execute_input": "2024-06-07T13:15:15.146838Z",
     "iopub.status.busy": "2024-06-07T13:15:15.145875Z",
     "iopub.status.idle": "2024-06-07T13:15:15.190281Z",
     "shell.execute_reply": "2024-06-07T13:15:15.189235Z"
    },
    "id": "X2AejD0xzE8a",
    "outputId": "21381c83-c496-4569-c63b-485dd39a9e81",
    "papermill": {
     "duration": 0.062396,
     "end_time": "2024-06-07T13:15:15.192956",
     "exception": false,
     "start_time": "2024-06-07T13:15:15.130560",
     "status": "completed"
    },
    "tags": []
   },
   "outputs": [
    {
     "data": {
      "text/html": [
       "<div>\n",
       "<style scoped>\n",
       "    .dataframe tbody tr th:only-of-type {\n",
       "        vertical-align: middle;\n",
       "    }\n",
       "\n",
       "    .dataframe tbody tr th {\n",
       "        vertical-align: top;\n",
       "    }\n",
       "\n",
       "    .dataframe thead th {\n",
       "        text-align: right;\n",
       "    }\n",
       "</style>\n",
       "<table border=\"1\" class=\"dataframe\">\n",
       "  <thead>\n",
       "    <tr style=\"text-align: right;\">\n",
       "      <th></th>\n",
       "      <th>count</th>\n",
       "      <th>mean</th>\n",
       "      <th>std</th>\n",
       "      <th>min</th>\n",
       "      <th>25%</th>\n",
       "      <th>50%</th>\n",
       "      <th>75%</th>\n",
       "      <th>max</th>\n",
       "    </tr>\n",
       "  </thead>\n",
       "  <tbody>\n",
       "    <tr>\n",
       "      <th>default</th>\n",
       "      <td>10127.0</td>\n",
       "      <td>0.160660</td>\n",
       "      <td>0.367235</td>\n",
       "      <td>0.0</td>\n",
       "      <td>0.0</td>\n",
       "      <td>0.0</td>\n",
       "      <td>0.0</td>\n",
       "      <td>1.0</td>\n",
       "    </tr>\n",
       "    <tr>\n",
       "      <th>idade</th>\n",
       "      <td>10127.0</td>\n",
       "      <td>46.325960</td>\n",
       "      <td>8.016814</td>\n",
       "      <td>26.0</td>\n",
       "      <td>41.0</td>\n",
       "      <td>46.0</td>\n",
       "      <td>52.0</td>\n",
       "      <td>73.0</td>\n",
       "    </tr>\n",
       "    <tr>\n",
       "      <th>dependentes</th>\n",
       "      <td>10127.0</td>\n",
       "      <td>2.346203</td>\n",
       "      <td>1.298908</td>\n",
       "      <td>0.0</td>\n",
       "      <td>1.0</td>\n",
       "      <td>2.0</td>\n",
       "      <td>3.0</td>\n",
       "      <td>5.0</td>\n",
       "    </tr>\n",
       "    <tr>\n",
       "      <th>meses_de_relacionamento</th>\n",
       "      <td>10127.0</td>\n",
       "      <td>35.928409</td>\n",
       "      <td>7.986416</td>\n",
       "      <td>13.0</td>\n",
       "      <td>31.0</td>\n",
       "      <td>36.0</td>\n",
       "      <td>40.0</td>\n",
       "      <td>56.0</td>\n",
       "    </tr>\n",
       "    <tr>\n",
       "      <th>qtd_produtos</th>\n",
       "      <td>10127.0</td>\n",
       "      <td>3.812580</td>\n",
       "      <td>1.554408</td>\n",
       "      <td>1.0</td>\n",
       "      <td>3.0</td>\n",
       "      <td>4.0</td>\n",
       "      <td>5.0</td>\n",
       "      <td>6.0</td>\n",
       "    </tr>\n",
       "    <tr>\n",
       "      <th>iteracoes_12m</th>\n",
       "      <td>10127.0</td>\n",
       "      <td>2.455317</td>\n",
       "      <td>1.106225</td>\n",
       "      <td>0.0</td>\n",
       "      <td>2.0</td>\n",
       "      <td>2.0</td>\n",
       "      <td>3.0</td>\n",
       "      <td>6.0</td>\n",
       "    </tr>\n",
       "    <tr>\n",
       "      <th>meses_inativo_12m</th>\n",
       "      <td>10127.0</td>\n",
       "      <td>2.341167</td>\n",
       "      <td>1.010622</td>\n",
       "      <td>0.0</td>\n",
       "      <td>2.0</td>\n",
       "      <td>2.0</td>\n",
       "      <td>3.0</td>\n",
       "      <td>6.0</td>\n",
       "    </tr>\n",
       "    <tr>\n",
       "      <th>qtd_transacoes_12m</th>\n",
       "      <td>10127.0</td>\n",
       "      <td>64.858695</td>\n",
       "      <td>23.472570</td>\n",
       "      <td>10.0</td>\n",
       "      <td>45.0</td>\n",
       "      <td>67.0</td>\n",
       "      <td>81.0</td>\n",
       "      <td>139.0</td>\n",
       "    </tr>\n",
       "  </tbody>\n",
       "</table>\n",
       "</div>"
      ],
      "text/plain": [
       "                           count       mean        std   min   25%   50%  \\\n",
       "default                  10127.0   0.160660   0.367235   0.0   0.0   0.0   \n",
       "idade                    10127.0  46.325960   8.016814  26.0  41.0  46.0   \n",
       "dependentes              10127.0   2.346203   1.298908   0.0   1.0   2.0   \n",
       "meses_de_relacionamento  10127.0  35.928409   7.986416  13.0  31.0  36.0   \n",
       "qtd_produtos             10127.0   3.812580   1.554408   1.0   3.0   4.0   \n",
       "iteracoes_12m            10127.0   2.455317   1.106225   0.0   2.0   2.0   \n",
       "meses_inativo_12m        10127.0   2.341167   1.010622   0.0   2.0   2.0   \n",
       "qtd_transacoes_12m       10127.0  64.858695  23.472570  10.0  45.0  67.0   \n",
       "\n",
       "                          75%    max  \n",
       "default                   0.0    1.0  \n",
       "idade                    52.0   73.0  \n",
       "dependentes               3.0    5.0  \n",
       "meses_de_relacionamento  40.0   56.0  \n",
       "qtd_produtos              5.0    6.0  \n",
       "iteracoes_12m             3.0    6.0  \n",
       "meses_inativo_12m         3.0    6.0  \n",
       "qtd_transacoes_12m       81.0  139.0  "
      ]
     },
     "execution_count": 11,
     "metadata": {},
     "output_type": "execute_result"
    }
   ],
   "source": [
    "df.drop('id', axis=1).select_dtypes('number').describe().transpose()"
   ]
  },
  {
   "cell_type": "code",
   "execution_count": 12,
   "id": "8c41ac8b",
   "metadata": {
    "execution": {
     "iopub.execute_input": "2024-06-07T13:15:15.223449Z",
     "iopub.status.busy": "2024-06-07T13:15:15.222958Z",
     "iopub.status.idle": "2024-06-07T13:15:15.236305Z",
     "shell.execute_reply": "2024-06-07T13:15:15.235232Z"
    },
    "id": "tJpuFSyVzWx0",
    "outputId": "55d7ec1d-3eb4-4c84-b73e-3b224df6444e",
    "papermill": {
     "duration": 0.030992,
     "end_time": "2024-06-07T13:15:15.238403",
     "exception": false,
     "start_time": "2024-06-07T13:15:15.207411",
     "status": "completed"
    },
    "tags": []
   },
   "outputs": [
    {
     "data": {
      "text/plain": [
       "id                         False\n",
       "default                    False\n",
       "idade                      False\n",
       "sexo                       False\n",
       "dependentes                False\n",
       "escolaridade                True\n",
       "estado_civil                True\n",
       "salario_anual               True\n",
       "tipo_cartao                False\n",
       "meses_de_relacionamento    False\n",
       "qtd_produtos               False\n",
       "iteracoes_12m              False\n",
       "meses_inativo_12m          False\n",
       "limite_credito             False\n",
       "valor_transacoes_12m       False\n",
       "qtd_transacoes_12m         False\n",
       "dtype: bool"
      ]
     },
     "execution_count": 12,
     "metadata": {},
     "output_type": "execute_result"
    }
   ],
   "source": [
    "df.isna().any()"
   ]
  },
  {
   "cell_type": "markdown",
   "id": "945403de",
   "metadata": {
    "id": "FJJBYBQbze6p",
    "papermill": {
     "duration": 0.014121,
     "end_time": "2024-06-07T13:15:15.267021",
     "exception": false,
     "start_time": "2024-06-07T13:15:15.252900",
     "status": "completed"
    },
    "tags": []
   },
   "source": [
    " - A função abaixo levanta algumas estatisticas sobre as colunas dos dados faltantes."
   ]
  },
  {
   "cell_type": "code",
   "execution_count": 13,
   "id": "450e7ccc",
   "metadata": {
    "execution": {
     "iopub.execute_input": "2024-06-07T13:15:15.297687Z",
     "iopub.status.busy": "2024-06-07T13:15:15.297327Z",
     "iopub.status.idle": "2024-06-07T13:15:15.304747Z",
     "shell.execute_reply": "2024-06-07T13:15:15.303583Z"
    },
    "id": "UBeAIKidSMl9",
    "papermill": {
     "duration": 0.025426,
     "end_time": "2024-06-07T13:15:15.307006",
     "exception": false,
     "start_time": "2024-06-07T13:15:15.281580",
     "status": "completed"
    },
    "tags": []
   },
   "outputs": [],
   "source": [
    "def stats_dados_faltantes(df: pd.DataFrame) -> None:\n",
    "\n",
    "  stats_dados_faltantes = []\n",
    "  for col in df.columns:\n",
    "    if df[col].isna().any():\n",
    "      qtd, _ = df[df[col].isna()].shape\n",
    "      total, _ = df.shape\n",
    "      dict_dados_faltantes = {col: {'quantidade': qtd, \"porcentagem\": round(100 * qtd/total, 2)}}\n",
    "      stats_dados_faltantes.append(dict_dados_faltantes)\n",
    "\n",
    "  for stat in stats_dados_faltantes:\n",
    "    print(stat)"
   ]
  },
  {
   "cell_type": "code",
   "execution_count": 14,
   "id": "7b8ff01a",
   "metadata": {
    "execution": {
     "iopub.execute_input": "2024-06-07T13:15:15.398351Z",
     "iopub.status.busy": "2024-06-07T13:15:15.397440Z",
     "iopub.status.idle": "2024-06-07T13:15:15.414368Z",
     "shell.execute_reply": "2024-06-07T13:15:15.413182Z"
    },
    "id": "yLcRKYv7Vcfo",
    "outputId": "b65b5c39-406e-4eb3-e45d-7ef788c05da3",
    "papermill": {
     "duration": 0.095461,
     "end_time": "2024-06-07T13:15:15.416840",
     "exception": false,
     "start_time": "2024-06-07T13:15:15.321379",
     "status": "completed"
    },
    "tags": []
   },
   "outputs": [
    {
     "name": "stdout",
     "output_type": "stream",
     "text": [
      "{'escolaridade': {'quantidade': 1519, 'porcentagem': 15.0}}\n",
      "{'estado_civil': {'quantidade': 749, 'porcentagem': 7.4}}\n",
      "{'salario_anual': {'quantidade': 1112, 'porcentagem': 10.98}}\n"
     ]
    }
   ],
   "source": [
    "stats_dados_faltantes(df=df)"
   ]
  },
  {
   "cell_type": "code",
   "execution_count": 15,
   "id": "efcb04fd",
   "metadata": {
    "execution": {
     "iopub.execute_input": "2024-06-07T13:15:15.448908Z",
     "iopub.status.busy": "2024-06-07T13:15:15.447747Z",
     "iopub.status.idle": "2024-06-07T13:15:15.465229Z",
     "shell.execute_reply": "2024-06-07T13:15:15.463907Z"
    },
    "id": "9HgN5wcQUyrE",
    "outputId": "45727a16-a2bd-4631-87b5-abcebf20f827",
    "papermill": {
     "duration": 0.035763,
     "end_time": "2024-06-07T13:15:15.467736",
     "exception": false,
     "start_time": "2024-06-07T13:15:15.431973",
     "status": "completed"
    },
    "tags": []
   },
   "outputs": [
    {
     "name": "stdout",
     "output_type": "stream",
     "text": [
      "{'escolaridade': {'quantidade': 1263, 'porcentagem': 14.86}}\n",
      "{'estado_civil': {'quantidade': 620, 'porcentagem': 7.29}}\n",
      "{'salario_anual': {'quantidade': 925, 'porcentagem': 10.88}}\n"
     ]
    }
   ],
   "source": [
    "stats_dados_faltantes(df=df[df['default'] == 0])"
   ]
  },
  {
   "cell_type": "code",
   "execution_count": 16,
   "id": "5ca2a570",
   "metadata": {
    "execution": {
     "iopub.execute_input": "2024-06-07T13:15:15.499040Z",
     "iopub.status.busy": "2024-06-07T13:15:15.498629Z",
     "iopub.status.idle": "2024-06-07T13:15:15.512301Z",
     "shell.execute_reply": "2024-06-07T13:15:15.511101Z"
    },
    "id": "o9GIwcSCVmjt",
    "outputId": "8066ec57-a5a4-4ce5-fd81-7623505ad9f0",
    "papermill": {
     "duration": 0.032283,
     "end_time": "2024-06-07T13:15:15.514958",
     "exception": false,
     "start_time": "2024-06-07T13:15:15.482675",
     "status": "completed"
    },
    "tags": []
   },
   "outputs": [
    {
     "name": "stdout",
     "output_type": "stream",
     "text": [
      "{'escolaridade': {'quantidade': 256, 'porcentagem': 15.73}}\n",
      "{'estado_civil': {'quantidade': 129, 'porcentagem': 7.93}}\n",
      "{'salario_anual': {'quantidade': 187, 'porcentagem': 11.49}}\n"
     ]
    }
   ],
   "source": [
    "stats_dados_faltantes(df=df[df['default'] == 1])"
   ]
  },
  {
   "cell_type": "markdown",
   "id": "1db2985a",
   "metadata": {
    "id": "lO5Y5jZo1vzd",
    "papermill": {
     "duration": 0.014988,
     "end_time": "2024-06-07T13:15:15.544949",
     "exception": false,
     "start_time": "2024-06-07T13:15:15.529961",
     "status": "completed"
    },
    "tags": []
   },
   "source": [
    "## 2\\. Transformação e limpeza de dados"
   ]
  },
  {
   "cell_type": "code",
   "execution_count": 17,
   "id": "239b7876",
   "metadata": {
    "execution": {
     "iopub.execute_input": "2024-06-07T13:15:15.578161Z",
     "iopub.status.busy": "2024-06-07T13:15:15.577258Z",
     "iopub.status.idle": "2024-06-07T13:15:15.587549Z",
     "shell.execute_reply": "2024-06-07T13:15:15.586197Z"
    },
    "id": "VxBhFueo1Bq4",
    "outputId": "49fe4c32-5e46-48b7-c564-baebad7b77a8",
    "papermill": {
     "duration": 0.029803,
     "end_time": "2024-06-07T13:15:15.590222",
     "exception": false,
     "start_time": "2024-06-07T13:15:15.560419",
     "status": "completed"
    },
    "tags": []
   },
   "outputs": [
    {
     "data": {
      "text/plain": [
       "limite_credito          object\n",
       "valor_transacoes_12m    object\n",
       "dtype: object"
      ]
     },
     "execution_count": 17,
     "metadata": {},
     "output_type": "execute_result"
    }
   ],
   "source": [
    "df[['limite_credito', 'valor_transacoes_12m']].dtypes"
   ]
  },
  {
   "cell_type": "code",
   "execution_count": 18,
   "id": "67158e93",
   "metadata": {
    "execution": {
     "iopub.execute_input": "2024-06-07T13:15:15.622978Z",
     "iopub.status.busy": "2024-06-07T13:15:15.622547Z",
     "iopub.status.idle": "2024-06-07T13:15:15.634836Z",
     "shell.execute_reply": "2024-06-07T13:15:15.633255Z"
    },
    "id": "xTxEsu2V1B6o",
    "outputId": "5bd108c9-2348-4078-b0ab-394627be6410",
    "papermill": {
     "duration": 0.03174,
     "end_time": "2024-06-07T13:15:15.638024",
     "exception": false,
     "start_time": "2024-06-07T13:15:15.606284",
     "status": "completed"
    },
    "tags": []
   },
   "outputs": [
    {
     "data": {
      "text/html": [
       "<div>\n",
       "<style scoped>\n",
       "    .dataframe tbody tr th:only-of-type {\n",
       "        vertical-align: middle;\n",
       "    }\n",
       "\n",
       "    .dataframe tbody tr th {\n",
       "        vertical-align: top;\n",
       "    }\n",
       "\n",
       "    .dataframe thead th {\n",
       "        text-align: right;\n",
       "    }\n",
       "</style>\n",
       "<table border=\"1\" class=\"dataframe\">\n",
       "  <thead>\n",
       "    <tr style=\"text-align: right;\">\n",
       "      <th></th>\n",
       "      <th>limite_credito</th>\n",
       "      <th>valor_transacoes_12m</th>\n",
       "    </tr>\n",
       "  </thead>\n",
       "  <tbody>\n",
       "    <tr>\n",
       "      <th>0</th>\n",
       "      <td>12.691,51</td>\n",
       "      <td>1.144,90</td>\n",
       "    </tr>\n",
       "    <tr>\n",
       "      <th>1</th>\n",
       "      <td>8.256,96</td>\n",
       "      <td>1.291,45</td>\n",
       "    </tr>\n",
       "    <tr>\n",
       "      <th>2</th>\n",
       "      <td>3.418,56</td>\n",
       "      <td>1.887,72</td>\n",
       "    </tr>\n",
       "    <tr>\n",
       "      <th>3</th>\n",
       "      <td>3.313,03</td>\n",
       "      <td>1.171,56</td>\n",
       "    </tr>\n",
       "    <tr>\n",
       "      <th>4</th>\n",
       "      <td>4.716,22</td>\n",
       "      <td>816,08</td>\n",
       "    </tr>\n",
       "  </tbody>\n",
       "</table>\n",
       "</div>"
      ],
      "text/plain": [
       "  limite_credito valor_transacoes_12m\n",
       "0      12.691,51             1.144,90\n",
       "1       8.256,96             1.291,45\n",
       "2       3.418,56             1.887,72\n",
       "3       3.313,03             1.171,56\n",
       "4       4.716,22               816,08"
      ]
     },
     "execution_count": 18,
     "metadata": {},
     "output_type": "execute_result"
    }
   ],
   "source": [
    "df[['limite_credito', 'valor_transacoes_12m']].head(n=5)"
   ]
  },
  {
   "cell_type": "code",
   "execution_count": 19,
   "id": "24bd1023",
   "metadata": {
    "execution": {
     "iopub.execute_input": "2024-06-07T13:15:15.671507Z",
     "iopub.status.busy": "2024-06-07T13:15:15.670661Z",
     "iopub.status.idle": "2024-06-07T13:15:15.677523Z",
     "shell.execute_reply": "2024-06-07T13:15:15.676487Z"
    },
    "id": "KahlzNx21CIj",
    "outputId": "94b2e0e2-cfc4-416b-fe07-dca5b9f96ef0",
    "papermill": {
     "duration": 0.026125,
     "end_time": "2024-06-07T13:15:15.679638",
     "exception": false,
     "start_time": "2024-06-07T13:15:15.653513",
     "status": "completed"
    },
    "tags": []
   },
   "outputs": [
    {
     "name": "stdout",
     "output_type": "stream",
     "text": [
      "['12.691,51', '8.256,96', '3.418,56', '3.313,03', '4.716,22']\n",
      "[12691.51, 8256.96, 3418.56, 3313.03, 4716.22]\n"
     ]
    }
   ],
   "source": [
    "fn = lambda valor: float(valor.replace(\".\", \"\").replace(\",\", \".\"))\n",
    "\n",
    "valores_originais = ['12.691,51', '8.256,96', '3.418,56', '3.313,03', '4.716,22']\n",
    "valores_limpos = list(map(fn, valores_originais))\n",
    "\n",
    "print(valores_originais)\n",
    "print(valores_limpos)"
   ]
  },
  {
   "cell_type": "code",
   "execution_count": 20,
   "id": "516a2120",
   "metadata": {
    "execution": {
     "iopub.execute_input": "2024-06-07T13:15:15.711573Z",
     "iopub.status.busy": "2024-06-07T13:15:15.711190Z",
     "iopub.status.idle": "2024-06-07T13:15:15.730070Z",
     "shell.execute_reply": "2024-06-07T13:15:15.728946Z"
    },
    "id": "wz6Q2gKh1CX7",
    "papermill": {
     "duration": 0.037605,
     "end_time": "2024-06-07T13:15:15.732333",
     "exception": false,
     "start_time": "2024-06-07T13:15:15.694728",
     "status": "completed"
    },
    "tags": []
   },
   "outputs": [],
   "source": [
    "df['valor_transacoes_12m'] = df['valor_transacoes_12m'].apply(fn)\n",
    "df['limite_credito'] = df['limite_credito'].apply(fn)"
   ]
  },
  {
   "cell_type": "code",
   "execution_count": 21,
   "id": "d3c4547b",
   "metadata": {
    "execution": {
     "iopub.execute_input": "2024-06-07T13:15:15.765124Z",
     "iopub.status.busy": "2024-06-07T13:15:15.764241Z",
     "iopub.status.idle": "2024-06-07T13:15:15.772743Z",
     "shell.execute_reply": "2024-06-07T13:15:15.771560Z"
    },
    "id": "cgErT8eR1Cmy",
    "outputId": "e80ba847-2810-43c5-d48a-3675634a9a94",
    "papermill": {
     "duration": 0.027642,
     "end_time": "2024-06-07T13:15:15.775198",
     "exception": false,
     "start_time": "2024-06-07T13:15:15.747556",
     "status": "completed"
    },
    "tags": []
   },
   "outputs": [
    {
     "data": {
      "text/plain": [
       "id                           int64\n",
       "default                      int64\n",
       "idade                        int64\n",
       "sexo                        object\n",
       "dependentes                  int64\n",
       "escolaridade                object\n",
       "estado_civil                object\n",
       "salario_anual               object\n",
       "tipo_cartao                 object\n",
       "meses_de_relacionamento      int64\n",
       "qtd_produtos                 int64\n",
       "iteracoes_12m                int64\n",
       "meses_inativo_12m            int64\n",
       "limite_credito             float64\n",
       "valor_transacoes_12m       float64\n",
       "qtd_transacoes_12m           int64\n",
       "dtype: object"
      ]
     },
     "execution_count": 21,
     "metadata": {},
     "output_type": "execute_result"
    }
   ],
   "source": [
    "df.dtypes"
   ]
  },
  {
   "cell_type": "markdown",
   "id": "aa67646d",
   "metadata": {
    "id": "f3uop7cq1St3",
    "papermill": {
     "duration": 0.015092,
     "end_time": "2024-06-07T13:15:15.806042",
     "exception": false,
     "start_time": "2024-06-07T13:15:15.790950",
     "status": "completed"
    },
    "tags": []
   },
   "source": [
    " - Atributos **categóricos**."
   ]
  },
  {
   "cell_type": "code",
   "execution_count": 22,
   "id": "c39f1e29",
   "metadata": {
    "execution": {
     "iopub.execute_input": "2024-06-07T13:15:15.838274Z",
     "iopub.status.busy": "2024-06-07T13:15:15.837917Z",
     "iopub.status.idle": "2024-06-07T13:15:15.864140Z",
     "shell.execute_reply": "2024-06-07T13:15:15.862782Z"
    },
    "id": "isuNfqhM1C1X",
    "outputId": "9a8302d4-1127-4901-a6cc-bf636668cc92",
    "papermill": {
     "duration": 0.045222,
     "end_time": "2024-06-07T13:15:15.866548",
     "exception": false,
     "start_time": "2024-06-07T13:15:15.821326",
     "status": "completed"
    },
    "tags": []
   },
   "outputs": [
    {
     "data": {
      "text/html": [
       "<div>\n",
       "<style scoped>\n",
       "    .dataframe tbody tr th:only-of-type {\n",
       "        vertical-align: middle;\n",
       "    }\n",
       "\n",
       "    .dataframe tbody tr th {\n",
       "        vertical-align: top;\n",
       "    }\n",
       "\n",
       "    .dataframe thead th {\n",
       "        text-align: right;\n",
       "    }\n",
       "</style>\n",
       "<table border=\"1\" class=\"dataframe\">\n",
       "  <thead>\n",
       "    <tr style=\"text-align: right;\">\n",
       "      <th></th>\n",
       "      <th>count</th>\n",
       "      <th>unique</th>\n",
       "      <th>top</th>\n",
       "      <th>freq</th>\n",
       "    </tr>\n",
       "  </thead>\n",
       "  <tbody>\n",
       "    <tr>\n",
       "      <th>sexo</th>\n",
       "      <td>10127</td>\n",
       "      <td>2</td>\n",
       "      <td>F</td>\n",
       "      <td>5358</td>\n",
       "    </tr>\n",
       "    <tr>\n",
       "      <th>escolaridade</th>\n",
       "      <td>8608</td>\n",
       "      <td>5</td>\n",
       "      <td>mestrado</td>\n",
       "      <td>3128</td>\n",
       "    </tr>\n",
       "    <tr>\n",
       "      <th>estado_civil</th>\n",
       "      <td>9378</td>\n",
       "      <td>3</td>\n",
       "      <td>casado</td>\n",
       "      <td>4687</td>\n",
       "    </tr>\n",
       "    <tr>\n",
       "      <th>salario_anual</th>\n",
       "      <td>9015</td>\n",
       "      <td>5</td>\n",
       "      <td>menos que $40K</td>\n",
       "      <td>3561</td>\n",
       "    </tr>\n",
       "    <tr>\n",
       "      <th>tipo_cartao</th>\n",
       "      <td>10127</td>\n",
       "      <td>4</td>\n",
       "      <td>blue</td>\n",
       "      <td>9436</td>\n",
       "    </tr>\n",
       "  </tbody>\n",
       "</table>\n",
       "</div>"
      ],
      "text/plain": [
       "               count unique             top  freq\n",
       "sexo           10127      2               F  5358\n",
       "escolaridade    8608      5        mestrado  3128\n",
       "estado_civil    9378      3          casado  4687\n",
       "salario_anual   9015      5  menos que $40K  3561\n",
       "tipo_cartao    10127      4            blue  9436"
      ]
     },
     "execution_count": 22,
     "metadata": {},
     "output_type": "execute_result"
    }
   ],
   "source": [
    "df.select_dtypes('object').describe().transpose()"
   ]
  },
  {
   "cell_type": "markdown",
   "id": "f4d20a89",
   "metadata": {
    "id": "XfNgBGRp1XS2",
    "papermill": {
     "duration": 0.016068,
     "end_time": "2024-06-07T13:15:15.900497",
     "exception": false,
     "start_time": "2024-06-07T13:15:15.884429",
     "status": "completed"
    },
    "tags": []
   },
   "source": [
    " - Atributos **numéricos**."
   ]
  },
  {
   "cell_type": "code",
   "execution_count": 23,
   "id": "4ac20389",
   "metadata": {
    "execution": {
     "iopub.execute_input": "2024-06-07T13:15:15.935956Z",
     "iopub.status.busy": "2024-06-07T13:15:15.934834Z",
     "iopub.status.idle": "2024-06-07T13:15:15.977918Z",
     "shell.execute_reply": "2024-06-07T13:15:15.976530Z"
    },
    "id": "AHtU-qjn1DEi",
    "outputId": "8ee77155-2273-4906-e38a-e06bc97da4a1",
    "papermill": {
     "duration": 0.064099,
     "end_time": "2024-06-07T13:15:15.980525",
     "exception": false,
     "start_time": "2024-06-07T13:15:15.916426",
     "status": "completed"
    },
    "tags": []
   },
   "outputs": [
    {
     "data": {
      "text/html": [
       "<div>\n",
       "<style scoped>\n",
       "    .dataframe tbody tr th:only-of-type {\n",
       "        vertical-align: middle;\n",
       "    }\n",
       "\n",
       "    .dataframe tbody tr th {\n",
       "        vertical-align: top;\n",
       "    }\n",
       "\n",
       "    .dataframe thead th {\n",
       "        text-align: right;\n",
       "    }\n",
       "</style>\n",
       "<table border=\"1\" class=\"dataframe\">\n",
       "  <thead>\n",
       "    <tr style=\"text-align: right;\">\n",
       "      <th></th>\n",
       "      <th>count</th>\n",
       "      <th>mean</th>\n",
       "      <th>std</th>\n",
       "      <th>min</th>\n",
       "      <th>25%</th>\n",
       "      <th>50%</th>\n",
       "      <th>75%</th>\n",
       "      <th>max</th>\n",
       "    </tr>\n",
       "  </thead>\n",
       "  <tbody>\n",
       "    <tr>\n",
       "      <th>default</th>\n",
       "      <td>10127.0</td>\n",
       "      <td>0.160660</td>\n",
       "      <td>0.367235</td>\n",
       "      <td>0.00</td>\n",
       "      <td>0.000</td>\n",
       "      <td>0.00</td>\n",
       "      <td>0.000</td>\n",
       "      <td>1.00</td>\n",
       "    </tr>\n",
       "    <tr>\n",
       "      <th>idade</th>\n",
       "      <td>10127.0</td>\n",
       "      <td>46.325960</td>\n",
       "      <td>8.016814</td>\n",
       "      <td>26.00</td>\n",
       "      <td>41.000</td>\n",
       "      <td>46.00</td>\n",
       "      <td>52.000</td>\n",
       "      <td>73.00</td>\n",
       "    </tr>\n",
       "    <tr>\n",
       "      <th>dependentes</th>\n",
       "      <td>10127.0</td>\n",
       "      <td>2.346203</td>\n",
       "      <td>1.298908</td>\n",
       "      <td>0.00</td>\n",
       "      <td>1.000</td>\n",
       "      <td>2.00</td>\n",
       "      <td>3.000</td>\n",
       "      <td>5.00</td>\n",
       "    </tr>\n",
       "    <tr>\n",
       "      <th>meses_de_relacionamento</th>\n",
       "      <td>10127.0</td>\n",
       "      <td>35.928409</td>\n",
       "      <td>7.986416</td>\n",
       "      <td>13.00</td>\n",
       "      <td>31.000</td>\n",
       "      <td>36.00</td>\n",
       "      <td>40.000</td>\n",
       "      <td>56.00</td>\n",
       "    </tr>\n",
       "    <tr>\n",
       "      <th>qtd_produtos</th>\n",
       "      <td>10127.0</td>\n",
       "      <td>3.812580</td>\n",
       "      <td>1.554408</td>\n",
       "      <td>1.00</td>\n",
       "      <td>3.000</td>\n",
       "      <td>4.00</td>\n",
       "      <td>5.000</td>\n",
       "      <td>6.00</td>\n",
       "    </tr>\n",
       "    <tr>\n",
       "      <th>iteracoes_12m</th>\n",
       "      <td>10127.0</td>\n",
       "      <td>2.455317</td>\n",
       "      <td>1.106225</td>\n",
       "      <td>0.00</td>\n",
       "      <td>2.000</td>\n",
       "      <td>2.00</td>\n",
       "      <td>3.000</td>\n",
       "      <td>6.00</td>\n",
       "    </tr>\n",
       "    <tr>\n",
       "      <th>meses_inativo_12m</th>\n",
       "      <td>10127.0</td>\n",
       "      <td>2.341167</td>\n",
       "      <td>1.010622</td>\n",
       "      <td>0.00</td>\n",
       "      <td>2.000</td>\n",
       "      <td>2.00</td>\n",
       "      <td>3.000</td>\n",
       "      <td>6.00</td>\n",
       "    </tr>\n",
       "    <tr>\n",
       "      <th>limite_credito</th>\n",
       "      <td>10127.0</td>\n",
       "      <td>8632.440165</td>\n",
       "      <td>9088.788041</td>\n",
       "      <td>1438.00</td>\n",
       "      <td>2555.355</td>\n",
       "      <td>4549.42</td>\n",
       "      <td>11068.175</td>\n",
       "      <td>34516.99</td>\n",
       "    </tr>\n",
       "    <tr>\n",
       "      <th>valor_transacoes_12m</th>\n",
       "      <td>10127.0</td>\n",
       "      <td>4404.583047</td>\n",
       "      <td>3397.128078</td>\n",
       "      <td>510.16</td>\n",
       "      <td>2155.825</td>\n",
       "      <td>3899.59</td>\n",
       "      <td>4741.310</td>\n",
       "      <td>18484.93</td>\n",
       "    </tr>\n",
       "    <tr>\n",
       "      <th>qtd_transacoes_12m</th>\n",
       "      <td>10127.0</td>\n",
       "      <td>64.858695</td>\n",
       "      <td>23.472570</td>\n",
       "      <td>10.00</td>\n",
       "      <td>45.000</td>\n",
       "      <td>67.00</td>\n",
       "      <td>81.000</td>\n",
       "      <td>139.00</td>\n",
       "    </tr>\n",
       "  </tbody>\n",
       "</table>\n",
       "</div>"
      ],
      "text/plain": [
       "                           count         mean          std      min       25%  \\\n",
       "default                  10127.0     0.160660     0.367235     0.00     0.000   \n",
       "idade                    10127.0    46.325960     8.016814    26.00    41.000   \n",
       "dependentes              10127.0     2.346203     1.298908     0.00     1.000   \n",
       "meses_de_relacionamento  10127.0    35.928409     7.986416    13.00    31.000   \n",
       "qtd_produtos             10127.0     3.812580     1.554408     1.00     3.000   \n",
       "iteracoes_12m            10127.0     2.455317     1.106225     0.00     2.000   \n",
       "meses_inativo_12m        10127.0     2.341167     1.010622     0.00     2.000   \n",
       "limite_credito           10127.0  8632.440165  9088.788041  1438.00  2555.355   \n",
       "valor_transacoes_12m     10127.0  4404.583047  3397.128078   510.16  2155.825   \n",
       "qtd_transacoes_12m       10127.0    64.858695    23.472570    10.00    45.000   \n",
       "\n",
       "                             50%        75%       max  \n",
       "default                     0.00      0.000      1.00  \n",
       "idade                      46.00     52.000     73.00  \n",
       "dependentes                 2.00      3.000      5.00  \n",
       "meses_de_relacionamento    36.00     40.000     56.00  \n",
       "qtd_produtos                4.00      5.000      6.00  \n",
       "iteracoes_12m               2.00      3.000      6.00  \n",
       "meses_inativo_12m           2.00      3.000      6.00  \n",
       "limite_credito           4549.42  11068.175  34516.99  \n",
       "valor_transacoes_12m     3899.59   4741.310  18484.93  \n",
       "qtd_transacoes_12m         67.00     81.000    139.00  "
      ]
     },
     "execution_count": 23,
     "metadata": {},
     "output_type": "execute_result"
    }
   ],
   "source": [
    "df.drop('id', axis=1).select_dtypes('number').describe().transpose()"
   ]
  },
  {
   "cell_type": "code",
   "execution_count": 24,
   "id": "502e52cb",
   "metadata": {
    "execution": {
     "iopub.execute_input": "2024-06-07T13:15:16.014625Z",
     "iopub.status.busy": "2024-06-07T13:15:16.014225Z",
     "iopub.status.idle": "2024-06-07T13:15:16.024754Z",
     "shell.execute_reply": "2024-06-07T13:15:16.023797Z"
    },
    "id": "RBWuhjqV1DWO",
    "papermill": {
     "duration": 0.030506,
     "end_time": "2024-06-07T13:15:16.027120",
     "exception": false,
     "start_time": "2024-06-07T13:15:15.996614",
     "status": "completed"
    },
    "tags": []
   },
   "outputs": [],
   "source": [
    "df.dropna(inplace=True)"
   ]
  },
  {
   "cell_type": "code",
   "execution_count": 25,
   "id": "23fa836b",
   "metadata": {
    "execution": {
     "iopub.execute_input": "2024-06-07T13:15:16.060419Z",
     "iopub.status.busy": "2024-06-07T13:15:16.060050Z",
     "iopub.status.idle": "2024-06-07T13:15:16.067319Z",
     "shell.execute_reply": "2024-06-07T13:15:16.066092Z"
    },
    "id": "ped3cR211Dja",
    "outputId": "6e94de06-d2d1-4d09-ec8e-26fc98bde20d",
    "papermill": {
     "duration": 0.026722,
     "end_time": "2024-06-07T13:15:16.069729",
     "exception": false,
     "start_time": "2024-06-07T13:15:16.043007",
     "status": "completed"
    },
    "tags": []
   },
   "outputs": [
    {
     "data": {
      "text/plain": [
       "(7081, 16)"
      ]
     },
     "execution_count": 25,
     "metadata": {},
     "output_type": "execute_result"
    }
   ],
   "source": [
    "df.shape"
   ]
  },
  {
   "cell_type": "code",
   "execution_count": 26,
   "id": "ecf98e6f",
   "metadata": {
    "execution": {
     "iopub.execute_input": "2024-06-07T13:15:16.104667Z",
     "iopub.status.busy": "2024-06-07T13:15:16.104317Z",
     "iopub.status.idle": "2024-06-07T13:15:16.113303Z",
     "shell.execute_reply": "2024-06-07T13:15:16.112185Z"
    },
    "id": "w2mTV9Zi1Dxm",
    "outputId": "9012612c-4a4f-4a04-a247-7cf2ea6bfb69",
    "papermill": {
     "duration": 0.029467,
     "end_time": "2024-06-07T13:15:16.115817",
     "exception": false,
     "start_time": "2024-06-07T13:15:16.086350",
     "status": "completed"
    },
    "tags": []
   },
   "outputs": [
    {
     "data": {
      "text/plain": [
       "(5968, 16)"
      ]
     },
     "execution_count": 26,
     "metadata": {},
     "output_type": "execute_result"
    }
   ],
   "source": [
    "df[df['default'] == 0].shape"
   ]
  },
  {
   "cell_type": "code",
   "execution_count": 27,
   "id": "db36b1ee",
   "metadata": {
    "execution": {
     "iopub.execute_input": "2024-06-07T13:15:16.149971Z",
     "iopub.status.busy": "2024-06-07T13:15:16.149590Z",
     "iopub.status.idle": "2024-06-07T13:15:16.158542Z",
     "shell.execute_reply": "2024-06-07T13:15:16.157479Z"
    },
    "id": "3u1-I9kZ1D-H",
    "outputId": "8c5ec2a0-68b4-4433-efb9-666ba4d3ce83",
    "papermill": {
     "duration": 0.028722,
     "end_time": "2024-06-07T13:15:16.160673",
     "exception": false,
     "start_time": "2024-06-07T13:15:16.131951",
     "status": "completed"
    },
    "tags": []
   },
   "outputs": [
    {
     "data": {
      "text/plain": [
       "(1113, 16)"
      ]
     },
     "execution_count": 27,
     "metadata": {},
     "output_type": "execute_result"
    }
   ],
   "source": [
    "df[df['default'] == 1].shape"
   ]
  },
  {
   "cell_type": "code",
   "execution_count": 28,
   "id": "facb2937",
   "metadata": {
    "execution": {
     "iopub.execute_input": "2024-06-07T13:15:16.195757Z",
     "iopub.status.busy": "2024-06-07T13:15:16.195349Z",
     "iopub.status.idle": "2024-06-07T13:15:16.204295Z",
     "shell.execute_reply": "2024-06-07T13:15:16.202899Z"
    },
    "id": "of69JydA1ELC",
    "papermill": {
     "duration": 0.029785,
     "end_time": "2024-06-07T13:15:16.207023",
     "exception": false,
     "start_time": "2024-06-07T13:15:16.177238",
     "status": "completed"
    },
    "tags": []
   },
   "outputs": [],
   "source": [
    "qtd_total_novo, _ = df.shape\n",
    "qtd_adimplentes_novo, _ = df[df['default'] == 0].shape\n",
    "qtd_inadimplentes_novo, _ = df[df['default'] == 1].shape"
   ]
  },
  {
   "cell_type": "code",
   "execution_count": 29,
   "id": "bc4c92b9",
   "metadata": {
    "execution": {
     "iopub.execute_input": "2024-06-07T13:15:16.241479Z",
     "iopub.status.busy": "2024-06-07T13:15:16.241101Z",
     "iopub.status.idle": "2024-06-07T13:15:16.247872Z",
     "shell.execute_reply": "2024-06-07T13:15:16.246695Z"
    },
    "id": "PrxKJsk61gfp",
    "outputId": "76a0d550-9da8-4373-cb07-01a455c60366",
    "papermill": {
     "duration": 0.027017,
     "end_time": "2024-06-07T13:15:16.250203",
     "exception": false,
     "start_time": "2024-06-07T13:15:16.223186",
     "status": "completed"
    },
    "tags": []
   },
   "outputs": [
    {
     "name": "stdout",
     "output_type": "stream",
     "text": [
      "A proporcão adimplentes ativos é de 83.93%\n",
      "A nova proporcão de clientes adimplentes é de 84.28%\n",
      "\n",
      "A proporcão clientes inadimplentes é de 16.07%\n",
      "A nova proporcão de clientes inadimplentes é de 15.72%\n"
     ]
    }
   ],
   "source": [
    "print(f\"A proporcão adimplentes ativos é de {round(100 * qtd_adimplentes / qtd_total, 2)}%\")\n",
    "print(f\"A nova proporcão de clientes adimplentes é de {round(100 * qtd_adimplentes_novo / qtd_total_novo, 2)}%\")\n",
    "print(\"\")\n",
    "print(f\"A proporcão clientes inadimplentes é de {round(100 * qtd_inadimplentes / qtd_total, 2)}%\")\n",
    "print(f\"A nova proporcão de clientes inadimplentes é de {round(100 * qtd_inadimplentes_novo / qtd_total_novo, 2)}%\")"
   ]
  },
  {
   "cell_type": "markdown",
   "id": "b9fd6d26",
   "metadata": {
    "id": "m_KnTOZ61_WR",
    "papermill": {
     "duration": 0.017968,
     "end_time": "2024-06-07T13:15:16.284562",
     "exception": false,
     "start_time": "2024-06-07T13:15:16.266594",
     "status": "completed"
    },
    "tags": []
   },
   "source": [
    "## 3\\. Visualização de dados"
   ]
  },
  {
   "cell_type": "code",
   "execution_count": 30,
   "id": "3db457e6",
   "metadata": {
    "execution": {
     "iopub.execute_input": "2024-06-07T13:15:16.319954Z",
     "iopub.status.busy": "2024-06-07T13:15:16.319045Z",
     "iopub.status.idle": "2024-06-07T13:15:17.839459Z",
     "shell.execute_reply": "2024-06-07T13:15:17.838137Z"
    },
    "id": "jAcx6dZF2CJP",
    "papermill": {
     "duration": 1.541583,
     "end_time": "2024-06-07T13:15:17.842945",
     "exception": false,
     "start_time": "2024-06-07T13:15:16.301362",
     "status": "completed"
    },
    "tags": []
   },
   "outputs": [],
   "source": [
    "import seaborn as sns\n",
    "import matplotlib.pyplot as plt\n",
    "\n",
    "sns.set_style(\"whitegrid\")"
   ]
  },
  {
   "cell_type": "code",
   "execution_count": 31,
   "id": "51bb0c06",
   "metadata": {
    "execution": {
     "iopub.execute_input": "2024-06-07T13:15:17.885663Z",
     "iopub.status.busy": "2024-06-07T13:15:17.885240Z",
     "iopub.status.idle": "2024-06-07T13:15:17.893365Z",
     "shell.execute_reply": "2024-06-07T13:15:17.892130Z"
    },
    "id": "fu7cj25X2Cc1",
    "papermill": {
     "duration": 0.032783,
     "end_time": "2024-06-07T13:15:17.896509",
     "exception": false,
     "start_time": "2024-06-07T13:15:17.863726",
     "status": "completed"
    },
    "tags": []
   },
   "outputs": [],
   "source": [
    "df_adimplente = df[df['default'] == 0]"
   ]
  },
  {
   "cell_type": "code",
   "execution_count": 32,
   "id": "b01055ce",
   "metadata": {
    "execution": {
     "iopub.execute_input": "2024-06-07T13:15:17.934037Z",
     "iopub.status.busy": "2024-06-07T13:15:17.933560Z",
     "iopub.status.idle": "2024-06-07T13:15:17.940088Z",
     "shell.execute_reply": "2024-06-07T13:15:17.939018Z"
    },
    "id": "zxWm_lJm2Css",
    "papermill": {
     "duration": 0.028257,
     "end_time": "2024-06-07T13:15:17.942316",
     "exception": false,
     "start_time": "2024-06-07T13:15:17.914059",
     "status": "completed"
    },
    "tags": []
   },
   "outputs": [],
   "source": [
    "df_inadimplente = df[df['default'] == 1]"
   ]
  },
  {
   "cell_type": "code",
   "execution_count": 33,
   "id": "d20a5d4e",
   "metadata": {
    "execution": {
     "iopub.execute_input": "2024-06-07T13:15:17.976946Z",
     "iopub.status.busy": "2024-06-07T13:15:17.976496Z",
     "iopub.status.idle": "2024-06-07T13:15:17.990401Z",
     "shell.execute_reply": "2024-06-07T13:15:17.989080Z"
    },
    "id": "GGnvZIDS1gvl",
    "outputId": "8155a9be-590d-42a1-b1a5-c892451675cf",
    "papermill": {
     "duration": 0.03425,
     "end_time": "2024-06-07T13:15:17.992945",
     "exception": false,
     "start_time": "2024-06-07T13:15:17.958695",
     "status": "completed"
    },
    "tags": []
   },
   "outputs": [
    {
     "data": {
      "text/html": [
       "<div>\n",
       "<style scoped>\n",
       "    .dataframe tbody tr th:only-of-type {\n",
       "        vertical-align: middle;\n",
       "    }\n",
       "\n",
       "    .dataframe tbody tr th {\n",
       "        vertical-align: top;\n",
       "    }\n",
       "\n",
       "    .dataframe thead th {\n",
       "        text-align: right;\n",
       "    }\n",
       "</style>\n",
       "<table border=\"1\" class=\"dataframe\">\n",
       "  <thead>\n",
       "    <tr style=\"text-align: right;\">\n",
       "      <th></th>\n",
       "      <th>sexo</th>\n",
       "      <th>escolaridade</th>\n",
       "      <th>estado_civil</th>\n",
       "      <th>salario_anual</th>\n",
       "      <th>tipo_cartao</th>\n",
       "    </tr>\n",
       "  </thead>\n",
       "  <tbody>\n",
       "    <tr>\n",
       "      <th>0</th>\n",
       "      <td>M</td>\n",
       "      <td>ensino medio</td>\n",
       "      <td>casado</td>\n",
       "      <td>$60K - $80K</td>\n",
       "      <td>blue</td>\n",
       "    </tr>\n",
       "    <tr>\n",
       "      <th>1</th>\n",
       "      <td>F</td>\n",
       "      <td>mestrado</td>\n",
       "      <td>solteiro</td>\n",
       "      <td>menos que $40K</td>\n",
       "      <td>blue</td>\n",
       "    </tr>\n",
       "    <tr>\n",
       "      <th>2</th>\n",
       "      <td>M</td>\n",
       "      <td>mestrado</td>\n",
       "      <td>casado</td>\n",
       "      <td>$80K - $120K</td>\n",
       "      <td>blue</td>\n",
       "    </tr>\n",
       "    <tr>\n",
       "      <th>4</th>\n",
       "      <td>M</td>\n",
       "      <td>sem educacao formal</td>\n",
       "      <td>casado</td>\n",
       "      <td>$60K - $80K</td>\n",
       "      <td>blue</td>\n",
       "    </tr>\n",
       "    <tr>\n",
       "      <th>5</th>\n",
       "      <td>M</td>\n",
       "      <td>mestrado</td>\n",
       "      <td>casado</td>\n",
       "      <td>$40K - $60K</td>\n",
       "      <td>blue</td>\n",
       "    </tr>\n",
       "  </tbody>\n",
       "</table>\n",
       "</div>"
      ],
      "text/plain": [
       "  sexo         escolaridade estado_civil   salario_anual tipo_cartao\n",
       "0    M         ensino medio       casado     $60K - $80K        blue\n",
       "1    F             mestrado     solteiro  menos que $40K        blue\n",
       "2    M             mestrado       casado    $80K - $120K        blue\n",
       "4    M  sem educacao formal       casado     $60K - $80K        blue\n",
       "5    M             mestrado       casado     $40K - $60K        blue"
      ]
     },
     "execution_count": 33,
     "metadata": {},
     "output_type": "execute_result"
    }
   ],
   "source": [
    "df.select_dtypes('object').head(n=5)"
   ]
  },
  {
   "cell_type": "markdown",
   "id": "1f002ff0",
   "metadata": {
    "id": "OMx1dGC-2mIS",
    "papermill": {
     "duration": 0.017535,
     "end_time": "2024-06-07T13:15:18.027145",
     "exception": false,
     "start_time": "2024-06-07T13:15:18.009610",
     "status": "completed"
    },
    "tags": []
   },
   "source": [
    "##**3.1. Visualizações categóricas**"
   ]
  },
  {
   "cell_type": "markdown",
   "id": "cb0f5cc4",
   "metadata": {
    "id": "ZoJb40632MGL",
    "papermill": {
     "duration": 0.016737,
     "end_time": "2024-06-07T13:15:18.061733",
     "exception": false,
     "start_time": "2024-06-07T13:15:18.044996",
     "status": "completed"
    },
    "tags": []
   },
   "source": [
    "###**3.1.1 Escolaridade**\n"
   ]
  },
  {
   "cell_type": "code",
   "execution_count": 34,
   "id": "54e14d19",
   "metadata": {
    "execution": {
     "iopub.execute_input": "2024-06-07T13:15:18.096541Z",
     "iopub.status.busy": "2024-06-07T13:15:18.096113Z",
     "iopub.status.idle": "2024-06-07T13:15:19.088877Z",
     "shell.execute_reply": "2024-06-07T13:15:19.087871Z"
    },
    "id": "tpBdPMhH2LhE",
    "outputId": "39432c45-f6ff-4f24-aaaa-5616bf3b1847",
    "papermill": {
     "duration": 1.013128,
     "end_time": "2024-06-07T13:15:19.091294",
     "exception": false,
     "start_time": "2024-06-07T13:15:18.078166",
     "status": "completed"
    },
    "tags": []
   },
   "outputs": [
    {
     "data": {
      "image/png": "[encoded data removed]",
      "text/plain": [
       "<Figure size 2000x500 with 3 Axes>"
      ]
     },
     "metadata": {},
     "output_type": "display_data"
    }
   ],
   "source": [
    "coluna = 'escolaridade'\n",
    "titulos = ['Escolaridade dos Clientes', 'Escolaridade dos Clientes Adimplentes', 'Escolaridade dos Clientes Inadimplentes']\n",
    "\n",
    "eixo = 0\n",
    "max_y = 0\n",
    "max = df.select_dtypes('object').describe()[coluna]['freq'] * 1.1\n",
    "figura, eixos = plt.subplots(1, 3, figsize=(20, 5), sharex=True)\n",
    "\n",
    "for dataframe in [df, df_adimplente, df_inadimplente]:\n",
    "\n",
    "    df_to_plot = dataframe[coluna].value_counts().reset_index()  # Cria um novo DataFrame com as contagens\n",
    "    df_to_plot.columns = [coluna, 'frequencia_absoluta']\n",
    "    df_to_plot.sort_values(by=[coluna], inplace=True)\n",
    "    f = sns.barplot(x=coluna, y='frequencia_absoluta', data=df_to_plot, ax=eixos[eixo])\n",
    "    f.set(title=titulos[eixo], xlabel=coluna.capitalize(), ylabel='Frequência Absoluta')\n",
    "    f.set_xticklabels(labels=df_to_plot[coluna], rotation=90)\n",
    "    _, max_y_f = f.get_ylim()\n",
    "    max_y = max_y_f if max_y_f > max_y else max_y\n",
    "    f.set(ylim=(0, max_y))\n",
    "    eixo += 1\n",
    "\n",
    "figura.show()"
   ]
  },
  {
   "cell_type": "markdown",
   "id": "a34d37a6",
   "metadata": {
    "id": "4TpuGLZG2Mg0",
    "papermill": {
     "duration": 0.017368,
     "end_time": "2024-06-07T13:15:19.125637",
     "exception": false,
     "start_time": "2024-06-07T13:15:19.108269",
     "status": "completed"
    },
    "tags": []
   },
   "source": [
    "###**3.1.2 Salário Anual**"
   ]
  },
  {
   "cell_type": "code",
   "execution_count": 35,
   "id": "ceab84e2",
   "metadata": {
    "execution": {
     "iopub.execute_input": "2024-06-07T13:15:19.162209Z",
     "iopub.status.busy": "2024-06-07T13:15:19.161805Z",
     "iopub.status.idle": "2024-06-07T13:15:20.130305Z",
     "shell.execute_reply": "2024-06-07T13:15:20.129154Z"
    },
    "id": "d4tdmsBO1g-0",
    "outputId": "091c8f51-badb-4a53-81b4-950e736c8f36",
    "papermill": {
     "duration": 0.989539,
     "end_time": "2024-06-07T13:15:20.132815",
     "exception": false,
     "start_time": "2024-06-07T13:15:19.143276",
     "status": "completed"
    },
    "tags": []
   },
   "outputs": [
    {
     "data": {
      "image/png": "[encoded data removed]",
      "text/plain": [
       "<Figure size 2000x500 with 3 Axes>"
      ]
     },
     "metadata": {},
     "output_type": "display_data"
    }
   ],
   "source": [
    "coluna = 'salario_anual'\n",
    "titulos = ['Salário Anual dos Clientes', 'Salário Anual dos Clientes Adimplentes', 'Salário Anual dos Clientes Inadimplentes']\n",
    "\n",
    "eixo = 0\n",
    "max_y = 0\n",
    "figura, eixos = plt.subplots(1,3, figsize=(20, 5), sharex=True)\n",
    "\n",
    "for dataframe in [df, df_adimplente, df_inadimplente]:\n",
    "\n",
    "\n",
    "\n",
    "    df_to_plot = dataframe[coluna].value_counts().reset_index()  # Cria um novo DataFrame com as contagens\n",
    "\n",
    "    df_to_plot.columns = [coluna, 'frequencia_absoluta']\n",
    "\n",
    "    df_to_plot.sort_values(by=[coluna], inplace=True)\n",
    "\n",
    "    f = sns.barplot(x=coluna, y='frequencia_absoluta', data=df_to_plot, ax=eixos[eixo])\n",
    "\n",
    "    f.set(title=titulos[eixo], xlabel=coluna.capitalize(), ylabel='Frequência Absoluta')\n",
    "\n",
    "    f.set_xticklabels(labels=df_to_plot[coluna], rotation=90)\n",
    "\n",
    "    _, max_y_f = f.get_ylim()\n",
    "\n",
    "    max_y = max_y_f if max_y_f > max_y else max_y\n",
    "\n",
    "    f.set(ylim=(0, max_y))\n",
    "\n",
    "    eixo += 1\n",
    "\n",
    "\n",
    "\n",
    "figura.show()"
   ]
  },
  {
   "cell_type": "markdown",
   "id": "d9e3ae94",
   "metadata": {
    "id": "SsyrHp22aao6",
    "papermill": {
     "duration": 0.018202,
     "end_time": "2024-06-07T13:15:20.169431",
     "exception": false,
     "start_time": "2024-06-07T13:15:20.151229",
     "status": "completed"
    },
    "tags": []
   },
   "source": [
    "###**3.1.3 Estado Civil**"
   ]
  },
  {
   "cell_type": "code",
   "execution_count": 36,
   "id": "7d2c14a7",
   "metadata": {
    "execution": {
     "iopub.execute_input": "2024-06-07T13:15:20.207435Z",
     "iopub.status.busy": "2024-06-07T13:15:20.207025Z",
     "iopub.status.idle": "2024-06-07T13:15:21.018007Z",
     "shell.execute_reply": "2024-06-07T13:15:21.016886Z"
    },
    "id": "2ZzVgq17aXYo",
    "outputId": "da0a8243-c3e4-4a19-8432-9103f812b507",
    "papermill": {
     "duration": 0.83317,
     "end_time": "2024-06-07T13:15:21.020768",
     "exception": false,
     "start_time": "2024-06-07T13:15:20.187598",
     "status": "completed"
    },
    "tags": []
   },
   "outputs": [
    {
     "data": {
      "image/png": "[encoded data removed]",
      "text/plain": [
       "<Figure size 2000x500 with 3 Axes>"
      ]
     },
     "metadata": {},
     "output_type": "display_data"
    }
   ],
   "source": [
    "coluna = 'estado_civil'\n",
    "titulos = ['Estado Civil dos Clientes', 'Estado Civil dos Clientes Adimplentes', 'Estado Civil dos Clientes Inadimplentes']\n",
    "\n",
    "eixo = 0\n",
    "max_y = 0\n",
    "figura, eixos = plt.subplots(1,3, figsize=(20, 5), sharex=True)\n",
    "\n",
    "for dataframe in [df, df_adimplente, df_inadimplente]:\n",
    "\n",
    "\n",
    "\n",
    "    df_to_plot = dataframe[coluna].value_counts().reset_index()  # Cria um novo DataFrame com as contagens\n",
    "\n",
    "    df_to_plot.columns = [coluna, 'frequencia_absoluta']\n",
    "\n",
    "    df_to_plot.sort_values(by=[coluna], inplace=True)\n",
    "\n",
    "    f = sns.barplot(x=coluna, y='frequencia_absoluta', data=df_to_plot, ax=eixos[eixo])\n",
    "\n",
    "    f.set(title=titulos[eixo], xlabel=coluna.capitalize(), ylabel='Frequência Absoluta')\n",
    "\n",
    "    f.set_xticklabels(labels=df_to_plot[coluna], rotation=90)\n",
    "\n",
    "    _, max_y_f = f.get_ylim()\n",
    "\n",
    "    max_y = max_y_f if max_y_f > max_y else max_y\n",
    "\n",
    "    f.set(ylim=(0, max_y))\n",
    "\n",
    "    eixo += 1\n",
    "\n",
    "\n",
    "\n",
    "figura.show()"
   ]
  },
  {
   "cell_type": "markdown",
   "id": "c56033c9",
   "metadata": {
    "id": "GpWl7Cvoapsp",
    "papermill": {
     "duration": 0.018859,
     "end_time": "2024-06-07T13:15:21.058743",
     "exception": false,
     "start_time": "2024-06-07T13:15:21.039884",
     "status": "completed"
    },
    "tags": []
   },
   "source": [
    "###**3.1.4 Tipo de Cartão**"
   ]
  },
  {
   "cell_type": "code",
   "execution_count": 37,
   "id": "5abb238a",
   "metadata": {
    "execution": {
     "iopub.execute_input": "2024-06-07T13:15:21.098227Z",
     "iopub.status.busy": "2024-06-07T13:15:21.097824Z",
     "iopub.status.idle": "2024-06-07T13:15:21.927243Z",
     "shell.execute_reply": "2024-06-07T13:15:21.925586Z"
    },
    "id": "6OAMY7I1asVP",
    "outputId": "9aad764d-4dcc-439f-bc08-4af4615b8e6b",
    "papermill": {
     "duration": 0.853003,
     "end_time": "2024-06-07T13:15:21.930378",
     "exception": false,
     "start_time": "2024-06-07T13:15:21.077375",
     "status": "completed"
    },
    "tags": []
   },
   "outputs": [
    {
     "data": {
      "image/png": "[encoded data removed]",
      "text/plain": [
       "<Figure size 2000x500 with 3 Axes>"
      ]
     },
     "metadata": {},
     "output_type": "display_data"
    }
   ],
   "source": [
    "coluna = 'tipo_cartao'\n",
    "titulos = ['Tipo do Cartão dos Clientes', 'Tipo do Cartão dos Clientes Adimplentes', 'Tipo do Cartão dos Clientes Inadimplentes']\n",
    "\n",
    "eixo = 0\n",
    "max_y = 0\n",
    "figura, eixos = plt.subplots(1,3, figsize=(20, 5), sharex=True)\n",
    "\n",
    "for dataframe in [df, df_adimplente, df_inadimplente]:\n",
    "\n",
    "\n",
    "\n",
    "    df_to_plot = dataframe[coluna].value_counts().reset_index()  # Cria um novo DataFrame com as contagens\n",
    "\n",
    "    df_to_plot.columns = [coluna, 'frequencia_absoluta']\n",
    "\n",
    "    df_to_plot.sort_values(by=[coluna], inplace=True)\n",
    "\n",
    "    f = sns.barplot(x=coluna, y='frequencia_absoluta', data=df_to_plot, ax=eixos[eixo])\n",
    "\n",
    "    f.set(title=titulos[eixo], xlabel=coluna.capitalize(), ylabel='Frequência Absoluta')\n",
    "\n",
    "    f.set_xticklabels(labels=df_to_plot[coluna], rotation=90)\n",
    "\n",
    "    _, max_y_f = f.get_ylim()\n",
    "\n",
    "    max_y = max_y_f if max_y_f > max_y else max_y\n",
    "\n",
    "    f.set(ylim=(0, max_y))\n",
    "\n",
    "    eixo += 1\n",
    "\n",
    "\n",
    "\n",
    "figura.show()"
   ]
  },
  {
   "cell_type": "markdown",
   "id": "52903a72",
   "metadata": {
    "id": "aKZ5Dyrf2qaR",
    "papermill": {
     "duration": 0.019305,
     "end_time": "2024-06-07T13:15:21.970007",
     "exception": false,
     "start_time": "2024-06-07T13:15:21.950702",
     "status": "completed"
    },
    "tags": []
   },
   "source": [
    "## **3.2. Visualizações numéricas**"
   ]
  },
  {
   "cell_type": "code",
   "execution_count": 38,
   "id": "dca76359",
   "metadata": {
    "execution": {
     "iopub.execute_input": "2024-06-07T13:15:22.011670Z",
     "iopub.status.busy": "2024-06-07T13:15:22.011235Z",
     "iopub.status.idle": "2024-06-07T13:15:22.028257Z",
     "shell.execute_reply": "2024-06-07T13:15:22.027186Z"
    },
    "id": "9XSQ9Lo6v6IY",
    "outputId": "626fc954-2caa-41c5-bf81-efcdb1fa79fd",
    "papermill": {
     "duration": 0.040768,
     "end_time": "2024-06-07T13:15:22.030622",
     "exception": false,
     "start_time": "2024-06-07T13:15:21.989854",
     "status": "completed"
    },
    "tags": []
   },
   "outputs": [
    {
     "data": {
      "text/html": [
       "<div>\n",
       "<style scoped>\n",
       "    .dataframe tbody tr th:only-of-type {\n",
       "        vertical-align: middle;\n",
       "    }\n",
       "\n",
       "    .dataframe tbody tr th {\n",
       "        vertical-align: top;\n",
       "    }\n",
       "\n",
       "    .dataframe thead th {\n",
       "        text-align: right;\n",
       "    }\n",
       "</style>\n",
       "<table border=\"1\" class=\"dataframe\">\n",
       "  <thead>\n",
       "    <tr style=\"text-align: right;\">\n",
       "      <th></th>\n",
       "      <th>idade</th>\n",
       "      <th>dependentes</th>\n",
       "      <th>meses_de_relacionamento</th>\n",
       "      <th>qtd_produtos</th>\n",
       "      <th>iteracoes_12m</th>\n",
       "      <th>meses_inativo_12m</th>\n",
       "      <th>limite_credito</th>\n",
       "      <th>valor_transacoes_12m</th>\n",
       "      <th>qtd_transacoes_12m</th>\n",
       "    </tr>\n",
       "  </thead>\n",
       "  <tbody>\n",
       "    <tr>\n",
       "      <th>0</th>\n",
       "      <td>45</td>\n",
       "      <td>3</td>\n",
       "      <td>39</td>\n",
       "      <td>5</td>\n",
       "      <td>3</td>\n",
       "      <td>1</td>\n",
       "      <td>12691.51</td>\n",
       "      <td>1144.90</td>\n",
       "      <td>42</td>\n",
       "    </tr>\n",
       "    <tr>\n",
       "      <th>1</th>\n",
       "      <td>49</td>\n",
       "      <td>5</td>\n",
       "      <td>44</td>\n",
       "      <td>6</td>\n",
       "      <td>2</td>\n",
       "      <td>1</td>\n",
       "      <td>8256.96</td>\n",
       "      <td>1291.45</td>\n",
       "      <td>33</td>\n",
       "    </tr>\n",
       "    <tr>\n",
       "      <th>2</th>\n",
       "      <td>51</td>\n",
       "      <td>3</td>\n",
       "      <td>36</td>\n",
       "      <td>4</td>\n",
       "      <td>0</td>\n",
       "      <td>1</td>\n",
       "      <td>3418.56</td>\n",
       "      <td>1887.72</td>\n",
       "      <td>20</td>\n",
       "    </tr>\n",
       "    <tr>\n",
       "      <th>4</th>\n",
       "      <td>40</td>\n",
       "      <td>3</td>\n",
       "      <td>21</td>\n",
       "      <td>5</td>\n",
       "      <td>0</td>\n",
       "      <td>1</td>\n",
       "      <td>4716.22</td>\n",
       "      <td>816.08</td>\n",
       "      <td>28</td>\n",
       "    </tr>\n",
       "    <tr>\n",
       "      <th>5</th>\n",
       "      <td>44</td>\n",
       "      <td>2</td>\n",
       "      <td>36</td>\n",
       "      <td>3</td>\n",
       "      <td>2</td>\n",
       "      <td>1</td>\n",
       "      <td>4010.69</td>\n",
       "      <td>1088.07</td>\n",
       "      <td>24</td>\n",
       "    </tr>\n",
       "  </tbody>\n",
       "</table>\n",
       "</div>"
      ],
      "text/plain": [
       "   idade  dependentes  meses_de_relacionamento  qtd_produtos  iteracoes_12m  \\\n",
       "0     45            3                       39             5              3   \n",
       "1     49            5                       44             6              2   \n",
       "2     51            3                       36             4              0   \n",
       "4     40            3                       21             5              0   \n",
       "5     44            2                       36             3              2   \n",
       "\n",
       "   meses_inativo_12m  limite_credito  valor_transacoes_12m  qtd_transacoes_12m  \n",
       "0                  1        12691.51               1144.90                  42  \n",
       "1                  1         8256.96               1291.45                  33  \n",
       "2                  1         3418.56               1887.72                  20  \n",
       "4                  1         4716.22                816.08                  28  \n",
       "5                  1         4010.69               1088.07                  24  "
      ]
     },
     "execution_count": 38,
     "metadata": {},
     "output_type": "execute_result"
    }
   ],
   "source": [
    "df.drop(['id', 'default'], axis=1).select_dtypes('number').head(n=5)"
   ]
  },
  {
   "cell_type": "markdown",
   "id": "1d105c5a",
   "metadata": {
    "id": "gqmEri2Y2uWq",
    "papermill": {
     "duration": 0.019902,
     "end_time": "2024-06-07T13:15:22.070084",
     "exception": false,
     "start_time": "2024-06-07T13:15:22.050182",
     "status": "completed"
    },
    "tags": []
   },
   "source": [
    "###**3.2.1 Quantidade de Transações Últimos 12 Meses**"
   ]
  },
  {
   "cell_type": "code",
   "execution_count": 39,
   "id": "54c3a173",
   "metadata": {
    "execution": {
     "iopub.execute_input": "2024-06-07T13:15:22.111673Z",
     "iopub.status.busy": "2024-06-07T13:15:22.111301Z",
     "iopub.status.idle": "2024-06-07T13:15:23.356413Z",
     "shell.execute_reply": "2024-06-07T13:15:23.355279Z"
    },
    "id": "VsS65NGO2w5a",
    "outputId": "79b9ecd8-f41b-48f3-abe7-dc28fe49e9a8",
    "papermill": {
     "duration": 1.26858,
     "end_time": "2024-06-07T13:15:23.358753",
     "exception": false,
     "start_time": "2024-06-07T13:15:22.090173",
     "status": "completed"
    },
    "tags": []
   },
   "outputs": [
    {
     "name": "stderr",
     "output_type": "stream",
     "text": [
      "/opt/conda/lib/python3.10/site-packages/seaborn/_oldcore.py:1119: FutureWarning: use_inf_as_na option is deprecated and will be removed in a future version. Convert inf values to NaN before operating instead.\n",
      "  with pd.option_context('mode.use_inf_as_na', True):\n",
      "/opt/conda/lib/python3.10/site-packages/seaborn/_oldcore.py:1119: FutureWarning: use_inf_as_na option is deprecated and will be removed in a future version. Convert inf values to NaN before operating instead.\n",
      "  with pd.option_context('mode.use_inf_as_na', True):\n",
      "/opt/conda/lib/python3.10/site-packages/seaborn/_oldcore.py:1119: FutureWarning: use_inf_as_na option is deprecated and will be removed in a future version. Convert inf values to NaN before operating instead.\n",
      "  with pd.option_context('mode.use_inf_as_na', True):\n"
     ]
    },
    {
     "data": {
      "image/png": "[encoded data removed]",
      "text/plain": [
       "<Figure size 2000x500 with 3 Axes>"
      ]
     },
     "metadata": {},
     "output_type": "display_data"
    }
   ],
   "source": [
    "coluna = 'qtd_transacoes_12m'\n",
    "titulos = ['Qtd. de Transações no Último Ano', 'Qtd. de Transações no Último Ano de Adimplentes', 'Qtd. de Transações no Último Ano de Inadimplentes']\n",
    "\n",
    "eixo = 0\n",
    "max_y = 0\n",
    "figura, eixos = plt.subplots(1,3, figsize=(20, 5), sharex=True)\n",
    "\n",
    "for dataframe in [df, df_adimplente, df_inadimplente]:\n",
    "\n",
    "  f = sns.histplot(x=coluna, data=dataframe, stat='count', ax=eixos[eixo])\n",
    "  f.set(title=titulos[eixo], xlabel=coluna.capitalize(), ylabel='Frequência Absoluta')\n",
    "\n",
    "  _, max_y_f = f.get_ylim()\n",
    "  max_y = max_y_f if max_y_f > max_y else max_y\n",
    "  f.set(ylim=(0, max_y))\n",
    "\n",
    "  eixo += 1\n",
    "\n",
    "figura.show()"
   ]
  },
  {
   "cell_type": "markdown",
   "id": "88aefe86",
   "metadata": {
    "id": "FF9onDBQ2zyb",
    "papermill": {
     "duration": 0.021059,
     "end_time": "2024-06-07T13:15:23.400986",
     "exception": false,
     "start_time": "2024-06-07T13:15:23.379927",
     "status": "completed"
    },
    "tags": []
   },
   "source": [
    "###**3.2.2 Valor das Transações Últimos 12 meses**"
   ]
  },
  {
   "cell_type": "code",
   "execution_count": 40,
   "id": "211ce294",
   "metadata": {
    "execution": {
     "iopub.execute_input": "2024-06-07T13:15:23.451177Z",
     "iopub.status.busy": "2024-06-07T13:15:23.450633Z",
     "iopub.status.idle": "2024-06-07T13:15:24.827002Z",
     "shell.execute_reply": "2024-06-07T13:15:24.825835Z"
    },
    "id": "SdcFbM4u20WD",
    "outputId": "c7a43354-823c-4a48-80f0-c99743dbb251",
    "papermill": {
     "duration": 1.404538,
     "end_time": "2024-06-07T13:15:24.829637",
     "exception": false,
     "start_time": "2024-06-07T13:15:23.425099",
     "status": "completed"
    },
    "tags": []
   },
   "outputs": [
    {
     "name": "stderr",
     "output_type": "stream",
     "text": [
      "/opt/conda/lib/python3.10/site-packages/seaborn/_oldcore.py:1119: FutureWarning: use_inf_as_na option is deprecated and will be removed in a future version. Convert inf values to NaN before operating instead.\n",
      "  with pd.option_context('mode.use_inf_as_na', True):\n",
      "/opt/conda/lib/python3.10/site-packages/seaborn/_oldcore.py:1119: FutureWarning: use_inf_as_na option is deprecated and will be removed in a future version. Convert inf values to NaN before operating instead.\n",
      "  with pd.option_context('mode.use_inf_as_na', True):\n",
      "/opt/conda/lib/python3.10/site-packages/seaborn/_oldcore.py:1119: FutureWarning: use_inf_as_na option is deprecated and will be removed in a future version. Convert inf values to NaN before operating instead.\n",
      "  with pd.option_context('mode.use_inf_as_na', True):\n"
     ]
    },
    {
     "data": {
      "image/png": "[encoded data removed]",
      "text/plain": [
       "<Figure size 2000x500 with 3 Axes>"
      ]
     },
     "metadata": {},
     "output_type": "display_data"
    }
   ],
   "source": [
    "#coluna = 'valor_transacoes_12m'\n",
    "titulos = ['Valor das Transações no Último Ano', 'Valor das Transações no Último Ano de Adimplentes', 'Valor das Transações no Último Ano de Inadimplentes']\n",
    "\n",
    "eixo = 0\n",
    "max_y = 0\n",
    "figura, eixos = plt.subplots(1,3, figsize=(20, 5), sharex=True)\n",
    "\n",
    "for dataframe in [df, df_adimplente, df_inadimplente]:\n",
    "\n",
    "  f = sns.histplot(x=coluna, data=dataframe, stat='count', ax=eixos[eixo])\n",
    "  f.set(title=titulos[eixo], xlabel=coluna.capitalize(), ylabel='Frequência Absoluta')\n",
    "\n",
    "  _, max_y_f = f.get_ylim()\n",
    "  max_y = max_y_f if max_y_f > max_y else max_y\n",
    "  f.set(ylim=(0, max_y))\n",
    "\n",
    "  eixo += 1\n",
    "\n",
    "figura.show()"
   ]
  },
  {
   "cell_type": "markdown",
   "id": "4b6501f8",
   "metadata": {
    "id": "R2KIOibB25j6",
    "papermill": {
     "duration": 0.020699,
     "end_time": "2024-06-07T13:15:24.871484",
     "exception": false,
     "start_time": "2024-06-07T13:15:24.850785",
     "status": "completed"
    },
    "tags": []
   },
   "source": [
    "###**3.2.3 Valor de Transações nos Últimos 12 Meses x Quantidade de Transações nos Últimos 12 Meses**"
   ]
  },
  {
   "cell_type": "code",
   "execution_count": 41,
   "id": "9bc96bb6",
   "metadata": {
    "execution": {
     "iopub.execute_input": "2024-06-07T13:15:24.916386Z",
     "iopub.status.busy": "2024-06-07T13:15:24.915979Z",
     "iopub.status.idle": "2024-06-07T13:15:26.436334Z",
     "shell.execute_reply": "2024-06-07T13:15:26.434387Z"
    },
    "id": "Wv5Tc96Z235p",
    "outputId": "760d3e46-7bd9-4893-fc5b-f5ed6be553a5",
    "papermill": {
     "duration": 1.546198,
     "end_time": "2024-06-07T13:15:26.438943",
     "exception": false,
     "start_time": "2024-06-07T13:15:24.892745",
     "status": "completed"
    },
    "tags": []
   },
   "outputs": [
    {
     "data": {
      "image/png": "[encoded data removed]",
      "text/plain": [
       "<Figure size 560.236x500 with 1 Axes>"
      ]
     },
     "metadata": {},
     "output_type": "display_data"
    }
   ],
   "source": [
    "f = sns.relplot(x='valor_transacoes_12m', y='qtd_transacoes_12m', data=df, hue='default')\n",
    "_ = f.set(\n",
    "    title='Relação entre Valor e Quantidade de Transações no Último Ano',\n",
    "    xlabel='Valor das Transações no Último Ano',\n",
    "    ylabel='Quantidade das Transações no Último Ano'\n",
    "  )"
   ]
  },
  {
   "cell_type": "markdown",
   "id": "5b884bc9",
   "metadata": {
    "id": "8dllaqAVwv6v",
    "papermill": {
     "duration": 0.023506,
     "end_time": "2024-06-07T13:15:26.490059",
     "exception": false,
     "start_time": "2024-06-07T13:15:26.466553",
     "status": "completed"
    },
    "tags": []
   },
   "source": [
    "## **4 Storytelling**"
   ]
  },
  {
   "cell_type": "markdown",
   "id": "86cc5a95",
   "metadata": {
    "id": "MbSw-r6ox0Wn",
    "papermill": {
     "duration": 0.023176,
     "end_time": "2024-06-07T13:15:26.536654",
     "exception": false,
     "start_time": "2024-06-07T13:15:26.513478",
     "status": "completed"
    },
    "tags": []
   },
   "source": [
    "**•\tEscolaridade**\n",
    "\n",
    "Observamos que o maior número de inadimplentes estão concentrados nas pessoas com Mestrado, Ensino Médio e Sem Educação Formal respectivamente, porém, essa tendência se repete nos três gráficos analisados com essa base de dados, não gerando nenhuma informação relevante para o negócio.\n",
    "\n",
    "**•\tSalário Anual**\n",
    "\n",
    "Observamos que o maior número de inadimplentes estão concentrados nas pessoas que recebem menos que $40K, entre $40K - $60K e entre $80K - $120K respectivamente, porém, essa tendência se repete nos três gráficos analisados com essa base de dados, não gerando nenhuma informação relevante para o negócio.\n",
    "\n",
    "**•\tEstado Civil**\n",
    "\n",
    "Observamos que o maior número de inadimplentes estão concentrados igualitariamente entre os Casados e Solteiros, aqui já podemos observar um comportamento diferente do gráfico dos adimplentes que se concentram entre os Casados primeiramente.\n",
    "\n",
    "**•\tTipo do Cartão**\n",
    "\n",
    "Observamos que o maior número de inadimplentes são os clientes que utilizam o cartão Blue, porém, o banco tem majoritariamente clientes que utilizam esse mesmo tipo de cartão. Vemos que não existe inadimplência dos clientes com o cartão Gold.\n",
    "\n",
    "**•\tQuantidade de Transações no Últimos 12 Meses**\n",
    "\n",
    "Observamos que os clientes inadimplentes realizaram de 20 a 80 transações por ano, tendo uma concentração maior em 40 transações. Essa é uma tendência que podemos destacar para identificarmos os possíveis clientes que não honrarão com os pagamentos de crédito.\n",
    "\n",
    "**•\tValor das Transações no Últimos 12 Meses**\n",
    "\n",
    "Observamos que os clientes inadimplentes realizaram em sua maioria transações de até $2.500, e muito poucas de $5000 e entre $7500 e $10000. Isso mostra outra tendência observada em clientes potenciais para serem inadimplentes.\n",
    "\n",
    "**•\tValor das Transações no Últimos 12 Meses x Quantidade de Transações nos Últimos 12 Meses**\n",
    "\n",
    "Vemos aqui que os clientes adimplentes (0) tendem a ter maior quantidade de transações e valores que os clientes inadimplentes (1).\n"
   ]
  }
 ],
 "metadata": {
  "colab": {
   "provenance": [],
   "toc_visible": true
  },
  "kaggle": {
   "accelerator": "none",
   "dataSources": [],
   "dockerImageVersionId": 30732,
   "isGpuEnabled": false,
   "isInternetEnabled": true,
   "language": "python",
   "sourceType": "notebook"
  },
  "kernelspec": {
   "display_name": "Python 3",
   "language": "python",
   "name": "python3"
  },
  "language_info": {
   "codemirror_mode": {
    "name": "ipython",
    "version": 3
   },
   "file_extension": ".py",
   "mimetype": "text/x-python",
   "name": "python",
   "nbconvert_exporter": "python",
   "pygments_lexer": "ipython3",
   "version": "3.10.13"
  },
  "papermill": {
   "default_parameters": {},
   "duration": 17.816271,
   "end_time": "2024-06-07T13:15:27.184823",
   "environment_variables": {},
   "exception": null,
   "input_path": "__notebook__.ipynb",
   "output_path": "__notebook__.ipynb",
   "parameters": {},
   "start_time": "2024-06-07T13:15:09.368552",
   "version": "2.5.0"
  }
 },
 "nbformat": 4,
 "nbformat_minor": 5
}
